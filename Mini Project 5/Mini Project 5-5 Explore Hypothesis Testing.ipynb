{
 "cells": [
  {
   "cell_type": "markdown",
   "metadata": {
    "id": "d25eed62-5910-4d10-a976-c18c4f7d99f7"
   },
   "source": [
    "# Mini Project 5-5 Explore Hypothesis Testing"
   ]
  },
  {
   "cell_type": "markdown",
   "metadata": {
    "id": "b50579ec-09df-4bb1-ad5a-d28f4790ca16"
   },
   "source": [
    "## Introduction"
   ]
  },
  {
   "cell_type": "markdown",
   "metadata": {
    "id": "6a8992ac-22d5-41db-aa09-263b464950e0"
   },
   "source": [
    "You work for an environmental think tank called Repair Our Air (ROA). ROA is formulating policy recommendations to improve the air quality in America, using the Environmental Protection Agency's Air Quality Index (AQI) to guide their decision making. An AQI value close to 0 signals \"little to no\" public health concern, while higher values are associated with increased risk to public health. \n",
    "\n",
    "They've tasked you with leveraging AQI data to help them prioritize their strategy for improving air quality in America."
   ]
  },
  {
   "cell_type": "markdown",
   "metadata": {
    "id": "6e4e3b8a-b5f9-4fe1-a824-0bd3aece693c"
   },
   "source": [
    "ROA is considering the following decisions. For each, construct a hypothesis test and an accompanying visualization, using your results of that test to make a recommendation:\n",
    "\n",
    "1. ROA is considering a metropolitan-focused approach. Within California, they want to know if the mean AQI in Los Angeles County is statistically different from the rest of California.\n",
    "2. With limited resources, ROA has to choose between New York and Ohio for their next regional office. Does New York have a lower AQI than Ohio?\n",
    "3. A new policy will affect those states with a mean AQI of 10 or greater. Will Michigan be affected by this new policy?\n",
    "\n",
    "**Notes:**\n",
    "1. For your analysis, you'll default to a 5% level of significance.\n",
    "2. Throughout the lab, for two-sample t-tests, use Welch's t-test (i.e., setting the `equal_var` parameter to `False` in `scipy.stats.ttest_ind()`). This will account for the possibly unequal variances between the two groups in the comparison."
   ]
  },
  {
   "cell_type": "markdown",
   "metadata": {
    "id": "3b4dc9a5-d724-4696-a704-57fefa9d5938"
   },
   "source": [
    "## Step 1: Imports\n",
    "\n",
    "To proceed with your analysis, import `pandas` and `numpy`. To conduct your hypothesis testing, import `stats` from `scipy`."
   ]
  },
  {
   "cell_type": "markdown",
   "metadata": {
    "id": "3d28827d-9bb3-45c7-a969-c00f6feda0e2"
   },
   "source": [
    "#### Import Packages"
   ]
  },
  {
   "cell_type": "code",
   "execution_count": 1,
   "metadata": {
    "id": "0b3d0e1c-23b9-4491-82a5-ac1e4bd36f30"
   },
   "outputs": [],
   "source": [
    "# Import relevant packages\n",
    "\n",
    "import pandas as pd\n",
    "from scipy import stats"
   ]
  },
  {
   "cell_type": "markdown",
   "metadata": {
    "id": "a4f7c0d0-027e-475a-bce5-ad96d059cd04"
   },
   "source": [
    "You are also provided with a dataset with national Air Quality Index (AQI) measurements by state over time for this analysis. `Pandas` was used to import the file `c4_epa_air_quality.csv` as a dataframe named `aqi`. As shown in this cell, the dataset has been automatically loaded in for you. You do not need to download the .csv file, or provide more code, in order to access the dataset and proceed with this lab. Please continue with this activity by completing the following instructions.\n",
    "\n",
    "**Note:** For purposes of your analysis, you can assume this data is randomly sampled from a larger population."
   ]
  },
  {
   "cell_type": "markdown",
   "metadata": {
    "id": "4b765030-5f02-47d2-aa77-8ac5b2117cc1"
   },
   "source": [
    "#### Load Dataset"
   ]
  },
  {
   "cell_type": "code",
   "execution_count": 5,
   "metadata": {
    "id": "1ce82ed7-cf32-4028-ac77-a377e7638458",
    "tags": []
   },
   "outputs": [],
   "source": [
    "# IMPORT YOUR DATA\n",
    "epa_data = pd.read_csv('c4_epa_air_quality.csv', index_col = 0)\n",
    "epa_data = epa_data.dropna()"
   ]
  },
  {
   "cell_type": "markdown",
   "metadata": {
    "id": "ZDz9XgvMy0MD"
   },
   "source": [
    "## Step 2: Data Exploration"
   ]
  },
  {
   "cell_type": "markdown",
   "metadata": {
    "id": "c1ee0813-5e74-4564-8ea1-8d724700754a"
   },
   "source": [
    "### Before proceeding to your deliverables, explore your datasets.\n",
    "\n",
    "Use the following space to surface descriptive statistics about your data. In particular, explore whether you believe the research questions you were given are readily answerable with this data."
   ]
  },
  {
   "cell_type": "code",
   "execution_count": 6,
   "metadata": {},
   "outputs": [
    {
     "data": {
      "text/html": [
       "<div>\n",
       "<style scoped>\n",
       "    .dataframe tbody tr th:only-of-type {\n",
       "        vertical-align: middle;\n",
       "    }\n",
       "\n",
       "    .dataframe tbody tr th {\n",
       "        vertical-align: top;\n",
       "    }\n",
       "\n",
       "    .dataframe thead th {\n",
       "        text-align: right;\n",
       "    }\n",
       "</style>\n",
       "<table border=\"1\" class=\"dataframe\">\n",
       "  <thead>\n",
       "    <tr style=\"text-align: right;\">\n",
       "      <th></th>\n",
       "      <th>date_local</th>\n",
       "      <th>state_name</th>\n",
       "      <th>county_name</th>\n",
       "      <th>city_name</th>\n",
       "      <th>local_site_name</th>\n",
       "      <th>parameter_name</th>\n",
       "      <th>units_of_measure</th>\n",
       "      <th>arithmetic_mean</th>\n",
       "      <th>aqi</th>\n",
       "    </tr>\n",
       "  </thead>\n",
       "  <tbody>\n",
       "    <tr>\n",
       "      <th>0</th>\n",
       "      <td>2018-01-01</td>\n",
       "      <td>Arizona</td>\n",
       "      <td>Maricopa</td>\n",
       "      <td>Buckeye</td>\n",
       "      <td>BUCKEYE</td>\n",
       "      <td>Carbon monoxide</td>\n",
       "      <td>Parts per million</td>\n",
       "      <td>0.473684</td>\n",
       "      <td>7</td>\n",
       "    </tr>\n",
       "    <tr>\n",
       "      <th>1</th>\n",
       "      <td>2018-01-01</td>\n",
       "      <td>Ohio</td>\n",
       "      <td>Belmont</td>\n",
       "      <td>Shadyside</td>\n",
       "      <td>Shadyside</td>\n",
       "      <td>Carbon monoxide</td>\n",
       "      <td>Parts per million</td>\n",
       "      <td>0.263158</td>\n",
       "      <td>5</td>\n",
       "    </tr>\n",
       "    <tr>\n",
       "      <th>2</th>\n",
       "      <td>2018-01-01</td>\n",
       "      <td>Wyoming</td>\n",
       "      <td>Teton</td>\n",
       "      <td>Not in a city</td>\n",
       "      <td>Yellowstone National Park - Old Faithful Snow ...</td>\n",
       "      <td>Carbon monoxide</td>\n",
       "      <td>Parts per million</td>\n",
       "      <td>0.111111</td>\n",
       "      <td>2</td>\n",
       "    </tr>\n",
       "    <tr>\n",
       "      <th>3</th>\n",
       "      <td>2018-01-01</td>\n",
       "      <td>Pennsylvania</td>\n",
       "      <td>Philadelphia</td>\n",
       "      <td>Philadelphia</td>\n",
       "      <td>North East Waste (NEW)</td>\n",
       "      <td>Carbon monoxide</td>\n",
       "      <td>Parts per million</td>\n",
       "      <td>0.300000</td>\n",
       "      <td>3</td>\n",
       "    </tr>\n",
       "    <tr>\n",
       "      <th>4</th>\n",
       "      <td>2018-01-01</td>\n",
       "      <td>Iowa</td>\n",
       "      <td>Polk</td>\n",
       "      <td>Des Moines</td>\n",
       "      <td>CARPENTER</td>\n",
       "      <td>Carbon monoxide</td>\n",
       "      <td>Parts per million</td>\n",
       "      <td>0.215789</td>\n",
       "      <td>3</td>\n",
       "    </tr>\n",
       "    <tr>\n",
       "      <th>5</th>\n",
       "      <td>2018-01-01</td>\n",
       "      <td>Hawaii</td>\n",
       "      <td>Honolulu</td>\n",
       "      <td>Not in a city</td>\n",
       "      <td>Kapolei</td>\n",
       "      <td>Carbon monoxide</td>\n",
       "      <td>Parts per million</td>\n",
       "      <td>0.994737</td>\n",
       "      <td>14</td>\n",
       "    </tr>\n",
       "    <tr>\n",
       "      <th>6</th>\n",
       "      <td>2018-01-01</td>\n",
       "      <td>Hawaii</td>\n",
       "      <td>Honolulu</td>\n",
       "      <td>Not in a city</td>\n",
       "      <td>Kapolei</td>\n",
       "      <td>Carbon monoxide</td>\n",
       "      <td>Parts per million</td>\n",
       "      <td>0.200000</td>\n",
       "      <td>2</td>\n",
       "    </tr>\n",
       "    <tr>\n",
       "      <th>8</th>\n",
       "      <td>2018-01-01</td>\n",
       "      <td>Hawaii</td>\n",
       "      <td>Honolulu</td>\n",
       "      <td>Honolulu</td>\n",
       "      <td>Honolulu</td>\n",
       "      <td>Carbon monoxide</td>\n",
       "      <td>Parts per million</td>\n",
       "      <td>0.400000</td>\n",
       "      <td>5</td>\n",
       "    </tr>\n",
       "    <tr>\n",
       "      <th>9</th>\n",
       "      <td>2018-01-01</td>\n",
       "      <td>Colorado</td>\n",
       "      <td>Larimer</td>\n",
       "      <td>Fort Collins</td>\n",
       "      <td>Fort Collins - CSU - S. Mason</td>\n",
       "      <td>Carbon monoxide</td>\n",
       "      <td>Parts per million</td>\n",
       "      <td>0.300000</td>\n",
       "      <td>6</td>\n",
       "    </tr>\n",
       "    <tr>\n",
       "      <th>10</th>\n",
       "      <td>2018-01-01</td>\n",
       "      <td>Minnesota</td>\n",
       "      <td>Dakota</td>\n",
       "      <td>Rosemount</td>\n",
       "      <td>Flint Hills Refinery 420</td>\n",
       "      <td>Carbon monoxide</td>\n",
       "      <td>Parts per million</td>\n",
       "      <td>0.247368</td>\n",
       "      <td>3</td>\n",
       "    </tr>\n",
       "  </tbody>\n",
       "</table>\n",
       "</div>"
      ],
      "text/plain": [
       "    date_local    state_name   county_name      city_name  \\\n",
       "0   2018-01-01       Arizona      Maricopa        Buckeye   \n",
       "1   2018-01-01          Ohio       Belmont      Shadyside   \n",
       "2   2018-01-01       Wyoming         Teton  Not in a city   \n",
       "3   2018-01-01  Pennsylvania  Philadelphia   Philadelphia   \n",
       "4   2018-01-01          Iowa          Polk     Des Moines   \n",
       "5   2018-01-01        Hawaii      Honolulu  Not in a city   \n",
       "6   2018-01-01        Hawaii      Honolulu  Not in a city   \n",
       "8   2018-01-01        Hawaii      Honolulu       Honolulu   \n",
       "9   2018-01-01      Colorado       Larimer   Fort Collins   \n",
       "10  2018-01-01     Minnesota        Dakota      Rosemount   \n",
       "\n",
       "                                      local_site_name   parameter_name  \\\n",
       "0                                             BUCKEYE  Carbon monoxide   \n",
       "1                                           Shadyside  Carbon monoxide   \n",
       "2   Yellowstone National Park - Old Faithful Snow ...  Carbon monoxide   \n",
       "3                              North East Waste (NEW)  Carbon monoxide   \n",
       "4                                           CARPENTER  Carbon monoxide   \n",
       "5                                             Kapolei  Carbon monoxide   \n",
       "6                                             Kapolei  Carbon monoxide   \n",
       "8                                            Honolulu  Carbon monoxide   \n",
       "9                       Fort Collins - CSU - S. Mason  Carbon monoxide   \n",
       "10                           Flint Hills Refinery 420  Carbon monoxide   \n",
       "\n",
       "     units_of_measure  arithmetic_mean  aqi  \n",
       "0   Parts per million         0.473684    7  \n",
       "1   Parts per million         0.263158    5  \n",
       "2   Parts per million         0.111111    2  \n",
       "3   Parts per million         0.300000    3  \n",
       "4   Parts per million         0.215789    3  \n",
       "5   Parts per million         0.994737   14  \n",
       "6   Parts per million         0.200000    2  \n",
       "8   Parts per million         0.400000    5  \n",
       "9   Parts per million         0.300000    6  \n",
       "10  Parts per million         0.247368    3  "
      ]
     },
     "execution_count": 6,
     "metadata": {},
     "output_type": "execute_result"
    }
   ],
   "source": [
    "# Use head() to show a sample of data\n",
    "\n",
    "epa_data.head(10)"
   ]
  },
  {
   "cell_type": "code",
   "execution_count": 12,
   "metadata": {},
   "outputs": [
    {
     "name": "stdout",
     "output_type": "stream",
     "text": [
      "<class 'pandas.core.frame.DataFrame'>\n",
      "Index: 257 entries, 0 to 259\n",
      "Data columns (total 9 columns):\n",
      " #   Column            Non-Null Count  Dtype  \n",
      "---  ------            --------------  -----  \n",
      " 0   date_local        257 non-null    object \n",
      " 1   state_name        257 non-null    object \n",
      " 2   county_name       257 non-null    object \n",
      " 3   city_name         257 non-null    object \n",
      " 4   local_site_name   257 non-null    object \n",
      " 5   parameter_name    257 non-null    object \n",
      " 6   units_of_measure  257 non-null    object \n",
      " 7   arithmetic_mean   257 non-null    float64\n",
      " 8   aqi               257 non-null    int64  \n",
      "dtypes: float64(1), int64(1), object(7)\n",
      "memory usage: 20.1+ KB\n",
      "None\n"
     ]
    }
   ],
   "source": [
    "# check varibles\n",
    "print(epa_data.info())"
   ]
  },
  {
   "cell_type": "code",
   "execution_count": 13,
   "metadata": {},
   "outputs": [
    {
     "data": {
      "text/plain": [
       "count    257.000000\n",
       "mean       6.782101\n",
       "std        7.091422\n",
       "min        0.000000\n",
       "25%        2.000000\n",
       "50%        5.000000\n",
       "75%        9.000000\n",
       "max       50.000000\n",
       "Name: aqi, dtype: float64"
      ]
     },
     "execution_count": 13,
     "metadata": {},
     "output_type": "execute_result"
    }
   ],
   "source": [
    "# Use describe() to summarize AQI\n",
    "epa_data['aqi'].describe()"
   ]
  },
  {
   "cell_type": "code",
   "execution_count": 20,
   "metadata": {
    "id": "0444122d-6fba-4051-8b09-b15392aacebf",
    "tags": []
   },
   "outputs": [
    {
     "name": "stdout",
     "output_type": "stream",
     "text": [
      "state_name\n",
      "California              66\n",
      "Arizona                 14\n",
      "Ohio                    12\n",
      "Florida                 12\n",
      "Texas                   10\n",
      "New York                10\n",
      "Pennsylvania             9\n",
      "Colorado                 9\n",
      "Michigan                 9\n",
      "Minnesota                7\n",
      "New Jersey               6\n",
      "Indiana                  5\n",
      "Massachusetts            4\n",
      "Oklahoma                 4\n",
      "North Carolina           4\n",
      "Nevada                   4\n",
      "Maryland                 4\n",
      "Connecticut              4\n",
      "Virginia                 4\n",
      "Utah                     3\n",
      "Vermont                  3\n",
      "Illinois                 3\n",
      "Missouri                 3\n",
      "Hawaii                   3\n",
      "Iowa                     3\n",
      "Wyoming                  3\n",
      "Kentucky                 3\n",
      "Alaska                   2\n",
      "Rhode Island             2\n",
      "Georgia                  2\n",
      "Tennessee                2\n",
      "Washington               2\n",
      "Montana                  2\n",
      "Maine                    2\n",
      "Idaho                    2\n",
      "New Mexico               2\n",
      "District Of Columbia     2\n",
      "Oregon                   2\n",
      "New Hampshire            2\n",
      "Kansas                   1\n",
      "Alabama                  1\n",
      "South Dakota             1\n",
      "Nebraska                 1\n",
      "Mississippi              1\n",
      "Louisiana                1\n",
      "Delaware                 1\n",
      "North Dakota             1\n",
      "Arkansas                 1\n",
      "Puerto Rico              1\n",
      "South Carolina           1\n",
      "Wisconsin                1\n",
      "Name: count, dtype: int64\n"
     ]
    }
   ],
   "source": [
    "# For a more thorough examination of observations by state use values_counts()\n",
    "\n",
    "print(epa_data['state_name'].value_counts())"
   ]
  },
  {
   "cell_type": "markdown",
   "metadata": {
    "id": "4a29c065-73b4-409f-a57c-b49c740f3d1d"
   },
   "source": [
    "#### **Question 1: From the preceding data exploration, what do you recognize?**"
   ]
  },
  {
   "cell_type": "markdown",
   "metadata": {
    "id": "yxdjmP4WJ4wH"
   },
   "source": [
    "A: I recognize that this data allows us to compare AQI across states, making it useful for hypothesis testing. However, the number of observations isn’t uniform across states, which could affect the reliability of certain comparisons."
   ]
  },
  {
   "cell_type": "markdown",
   "metadata": {
    "id": "fd48d0f0-3f90-455e-87a1-0da43fcac202"
   },
   "source": [
    "## Step 3. Statistical Tests\n",
    "\n",
    "Before you proceed, recall the following steps for conducting hypothesis testing:\n",
    "\n",
    "1. Formulate the null hypothesis and the alternative hypothesis.<br>\n",
    "2. Set the significance level.<br>\n",
    "3. Determine the appropriate test procedure.<br>\n",
    "4. Compute the p-value.<br>\n",
    "5. Draw your conclusion."
   ]
  },
  {
   "cell_type": "markdown",
   "metadata": {
    "id": "d572fbab-b82e-4898-96d5-93a8f20c3094"
   },
   "source": [
    "### Hypothesis 1: ROA is considering a metropolitan-focused approach. Within California, they want to know if the mean AQI in Los Angeles County is statistically different from the rest of California.\n",
    "\n",
    "Before proceeding with your analysis, it will be helpful to subset the data for your comparison."
   ]
  },
  {
   "cell_type": "code",
   "execution_count": 22,
   "metadata": {
    "id": "c8e42529-af00-4699-96b4-bd0f8989014a"
   },
   "outputs": [],
   "source": [
    "# Create dataframes for each sample being compared in your test\n",
    "\n",
    "california = epa_data[epa_data['state_name'] == \"California\"]\n",
    "los_angeles = epa_data[epa_data['county_name'] == \"Los Angeles\"]\n"
   ]
  },
  {
   "cell_type": "code",
   "execution_count": 25,
   "metadata": {},
   "outputs": [
    {
     "data": {
      "text/html": [
       "<div>\n",
       "<style scoped>\n",
       "    .dataframe tbody tr th:only-of-type {\n",
       "        vertical-align: middle;\n",
       "    }\n",
       "\n",
       "    .dataframe tbody tr th {\n",
       "        vertical-align: top;\n",
       "    }\n",
       "\n",
       "    .dataframe thead th {\n",
       "        text-align: right;\n",
       "    }\n",
       "</style>\n",
       "<table border=\"1\" class=\"dataframe\">\n",
       "  <thead>\n",
       "    <tr style=\"text-align: right;\">\n",
       "      <th></th>\n",
       "      <th>date_local</th>\n",
       "      <th>state_name</th>\n",
       "      <th>county_name</th>\n",
       "      <th>city_name</th>\n",
       "      <th>local_site_name</th>\n",
       "      <th>parameter_name</th>\n",
       "      <th>units_of_measure</th>\n",
       "      <th>arithmetic_mean</th>\n",
       "      <th>aqi</th>\n",
       "    </tr>\n",
       "  </thead>\n",
       "  <tbody>\n",
       "    <tr>\n",
       "      <th>33</th>\n",
       "      <td>2018-01-01</td>\n",
       "      <td>California</td>\n",
       "      <td>Los Angeles</td>\n",
       "      <td>Lancaster</td>\n",
       "      <td>Lancaster-Division Street</td>\n",
       "      <td>Carbon monoxide</td>\n",
       "      <td>Parts per million</td>\n",
       "      <td>0.394737</td>\n",
       "      <td>7</td>\n",
       "    </tr>\n",
       "    <tr>\n",
       "      <th>42</th>\n",
       "      <td>2018-01-01</td>\n",
       "      <td>California</td>\n",
       "      <td>Los Angeles</td>\n",
       "      <td>Santa Clarita</td>\n",
       "      <td>Santa Clarita</td>\n",
       "      <td>Carbon monoxide</td>\n",
       "      <td>Parts per million</td>\n",
       "      <td>0.394737</td>\n",
       "      <td>7</td>\n",
       "    </tr>\n",
       "    <tr>\n",
       "      <th>61</th>\n",
       "      <td>2018-01-01</td>\n",
       "      <td>California</td>\n",
       "      <td>Los Angeles</td>\n",
       "      <td>Pasadena</td>\n",
       "      <td>Pasadena</td>\n",
       "      <td>Carbon monoxide</td>\n",
       "      <td>Parts per million</td>\n",
       "      <td>0.789474</td>\n",
       "      <td>16</td>\n",
       "    </tr>\n",
       "    <tr>\n",
       "      <th>76</th>\n",
       "      <td>2018-01-01</td>\n",
       "      <td>California</td>\n",
       "      <td>Los Angeles</td>\n",
       "      <td>Los Angeles</td>\n",
       "      <td>LAX Hastings</td>\n",
       "      <td>Carbon monoxide</td>\n",
       "      <td>Parts per million</td>\n",
       "      <td>0.863158</td>\n",
       "      <td>17</td>\n",
       "    </tr>\n",
       "    <tr>\n",
       "      <th>109</th>\n",
       "      <td>2018-01-01</td>\n",
       "      <td>California</td>\n",
       "      <td>Los Angeles</td>\n",
       "      <td>Los Angeles</td>\n",
       "      <td>Los Angeles-North Main Street</td>\n",
       "      <td>Carbon monoxide</td>\n",
       "      <td>Parts per million</td>\n",
       "      <td>0.994737</td>\n",
       "      <td>17</td>\n",
       "    </tr>\n",
       "  </tbody>\n",
       "</table>\n",
       "</div>"
      ],
      "text/plain": [
       "     date_local  state_name  county_name      city_name  \\\n",
       "33   2018-01-01  California  Los Angeles      Lancaster   \n",
       "42   2018-01-01  California  Los Angeles  Santa Clarita   \n",
       "61   2018-01-01  California  Los Angeles       Pasadena   \n",
       "76   2018-01-01  California  Los Angeles    Los Angeles   \n",
       "109  2018-01-01  California  Los Angeles    Los Angeles   \n",
       "\n",
       "                   local_site_name   parameter_name   units_of_measure  \\\n",
       "33       Lancaster-Division Street  Carbon monoxide  Parts per million   \n",
       "42                   Santa Clarita  Carbon monoxide  Parts per million   \n",
       "61                        Pasadena  Carbon monoxide  Parts per million   \n",
       "76                    LAX Hastings  Carbon monoxide  Parts per million   \n",
       "109  Los Angeles-North Main Street  Carbon monoxide  Parts per million   \n",
       "\n",
       "     arithmetic_mean  aqi  \n",
       "33          0.394737    7  \n",
       "42          0.394737    7  \n",
       "61          0.789474   16  \n",
       "76          0.863158   17  \n",
       "109         0.994737   17  "
      ]
     },
     "execution_count": 25,
     "metadata": {},
     "output_type": "execute_result"
    }
   ],
   "source": [
    "# Check head\n",
    "\n",
    "los_angeles.head()"
   ]
  },
  {
   "cell_type": "markdown",
   "metadata": {
    "id": "7dff76cf-3a49-49d2-9660-0b5ec17d5f0a"
   },
   "source": [
    "#### Formulate your hypothesis:"
   ]
  },
  {
   "cell_type": "markdown",
   "metadata": {
    "id": "fdddef66-6207-4cc0-853c-0b578674bbfc"
   },
   "source": [
    "**Formulate your null and alternative hypotheses:**\n",
    "\n",
    "*   $H_0$: There is no difference in the mean AQI between Los Angeles County and the rest of California.\n",
    "*   $H_A$: There is a difference in the mean AQI between Los Angeles County and the rest of California.\n"
   ]
  },
  {
   "cell_type": "markdown",
   "metadata": {
    "id": "5dac3136-16bf-45d2-a560-05fe5361f5cb"
   },
   "source": [
    "#### Set the significance level:"
   ]
  },
  {
   "cell_type": "code",
   "execution_count": 14,
   "metadata": {
    "id": "5ef36549-7ccb-4547-bf04-d23b166c65d4"
   },
   "outputs": [],
   "source": [
    "# For this analysis, the significance level is 5%\n",
    "\n",
    "sig_val = 0.05"
   ]
  },
  {
   "cell_type": "markdown",
   "metadata": {
    "id": "4ebb679d-188d-4ca8-a886-6edb9ba1301e"
   },
   "source": [
    "#### Determine the appropriate test procedure:"
   ]
  },
  {
   "cell_type": "markdown",
   "metadata": {
    "id": "ab717428-91e5-4f88-b6d5-0a8c3034e010"
   },
   "source": [
    "Here, you are comparing the sample means between two independent samples. Therefore, you will utilize a **two-sample  𝑡-test**."
   ]
  },
  {
   "cell_type": "markdown",
   "metadata": {
    "id": "e862eb4d-a170-4126-9373-a527bf5659da"
   },
   "source": [
    "#### Compute the P-value"
   ]
  },
  {
   "cell_type": "code",
   "execution_count": 35,
   "metadata": {
    "id": "83ef0d80-48ec-4a5a-8acd-0fab137243c3",
    "tags": []
   },
   "outputs": [
    {
     "name": "stdout",
     "output_type": "stream",
     "text": [
      "0.11435587227090667\n"
     ]
    }
   ],
   "source": [
    "# Compute your p-value here\n",
    "t_stat, p_value = stats.ttest_ind(california['aqi'], los_angeles['aqi'], equal_var=False)\n",
    "print(p_value)"
   ]
  },
  {
   "cell_type": "markdown",
   "metadata": {
    "id": "2d62e8b0-59e5-471d-a5fc-d50395955a2a"
   },
   "source": [
    "#### **Question 2. What is your P-value for hypothesis 1, and what does this indicate for your null hypothesis?**"
   ]
  },
  {
   "cell_type": "code",
   "execution_count": 36,
   "metadata": {},
   "outputs": [
    {
     "name": "stdout",
     "output_type": "stream",
     "text": [
      "p_value > 0.05, Fail to reject Ho.\n"
     ]
    }
   ],
   "source": [
    "# Extracting pvalue and make the test\n",
    "if p_value < 0.05:\n",
    "    \n",
    "    print('p_value < 0.05, Reject Ho.')          # Ha: There is a difference in the mean\n",
    "else:\n",
    "    print('p_value > 0.05, Fail to reject Ho.')  # Ho: There is no difference in the mean"
   ]
  },
  {
   "cell_type": "markdown",
   "metadata": {
    "id": "KUEKceuOJ1S2"
   },
   "source": [
    "A: We fail to reject the null hypothesis because the p-value is greater than 5%. This means that there is no statistically significant difference in means"
   ]
  },
  {
   "cell_type": "markdown",
   "metadata": {
    "id": "94a88155-3328-4c7e-8e60-67a2ba9d7967"
   },
   "source": [
    "### Hypothesis 2: With limited resources, ROA has to choose between New York and Ohio for their next regional office. Does New York have a lower AQI than Ohio?\n",
    "\n",
    "Before proceeding with your analysis, it will be helpful to subset the data for your comparison."
   ]
  },
  {
   "cell_type": "code",
   "execution_count": 40,
   "metadata": {
    "id": "f39b7d83-9fbf-4bba-90c2-c99f903badd8"
   },
   "outputs": [],
   "source": [
    "# Create dataframes for each sample being compared in your test\n",
    "new_york = epa_data[epa_data['state_name'] == \"New York\"]\n",
    "ohio = epa_data[epa_data['state_name'] == \"Ohio\"]"
   ]
  },
  {
   "cell_type": "code",
   "execution_count": 41,
   "metadata": {},
   "outputs": [
    {
     "data": {
      "text/html": [
       "<div>\n",
       "<style scoped>\n",
       "    .dataframe tbody tr th:only-of-type {\n",
       "        vertical-align: middle;\n",
       "    }\n",
       "\n",
       "    .dataframe tbody tr th {\n",
       "        vertical-align: top;\n",
       "    }\n",
       "\n",
       "    .dataframe thead th {\n",
       "        text-align: right;\n",
       "    }\n",
       "</style>\n",
       "<table border=\"1\" class=\"dataframe\">\n",
       "  <thead>\n",
       "    <tr style=\"text-align: right;\">\n",
       "      <th></th>\n",
       "      <th>date_local</th>\n",
       "      <th>state_name</th>\n",
       "      <th>county_name</th>\n",
       "      <th>city_name</th>\n",
       "      <th>local_site_name</th>\n",
       "      <th>parameter_name</th>\n",
       "      <th>units_of_measure</th>\n",
       "      <th>arithmetic_mean</th>\n",
       "      <th>aqi</th>\n",
       "    </tr>\n",
       "  </thead>\n",
       "  <tbody>\n",
       "    <tr>\n",
       "      <th>1</th>\n",
       "      <td>2018-01-01</td>\n",
       "      <td>Ohio</td>\n",
       "      <td>Belmont</td>\n",
       "      <td>Shadyside</td>\n",
       "      <td>Shadyside</td>\n",
       "      <td>Carbon monoxide</td>\n",
       "      <td>Parts per million</td>\n",
       "      <td>0.263158</td>\n",
       "      <td>5</td>\n",
       "    </tr>\n",
       "    <tr>\n",
       "      <th>12</th>\n",
       "      <td>2018-01-01</td>\n",
       "      <td>Ohio</td>\n",
       "      <td>Hamilton</td>\n",
       "      <td>Cincinnati</td>\n",
       "      <td>Taft NCore</td>\n",
       "      <td>Carbon monoxide</td>\n",
       "      <td>Parts per million</td>\n",
       "      <td>0.252632</td>\n",
       "      <td>3</td>\n",
       "    </tr>\n",
       "    <tr>\n",
       "      <th>22</th>\n",
       "      <td>2018-01-01</td>\n",
       "      <td>Ohio</td>\n",
       "      <td>Stark</td>\n",
       "      <td>Canton</td>\n",
       "      <td>Canton</td>\n",
       "      <td>Carbon monoxide</td>\n",
       "      <td>Parts per million</td>\n",
       "      <td>0.394737</td>\n",
       "      <td>6</td>\n",
       "    </tr>\n",
       "    <tr>\n",
       "      <th>51</th>\n",
       "      <td>2018-01-01</td>\n",
       "      <td>Ohio</td>\n",
       "      <td>Summit</td>\n",
       "      <td>Akron</td>\n",
       "      <td>NIHF STEM MS</td>\n",
       "      <td>Carbon monoxide</td>\n",
       "      <td>Parts per million</td>\n",
       "      <td>0.083333</td>\n",
       "      <td>3</td>\n",
       "    </tr>\n",
       "    <tr>\n",
       "      <th>59</th>\n",
       "      <td>2018-01-01</td>\n",
       "      <td>Ohio</td>\n",
       "      <td>Cuyahoga</td>\n",
       "      <td>Cleveland</td>\n",
       "      <td>GT Craig NCore</td>\n",
       "      <td>Carbon monoxide</td>\n",
       "      <td>Parts per million</td>\n",
       "      <td>0.250000</td>\n",
       "      <td>3</td>\n",
       "    </tr>\n",
       "  </tbody>\n",
       "</table>\n",
       "</div>"
      ],
      "text/plain": [
       "    date_local state_name county_name   city_name local_site_name  \\\n",
       "1   2018-01-01       Ohio     Belmont   Shadyside       Shadyside   \n",
       "12  2018-01-01       Ohio    Hamilton  Cincinnati      Taft NCore   \n",
       "22  2018-01-01       Ohio       Stark      Canton          Canton   \n",
       "51  2018-01-01       Ohio      Summit       Akron    NIHF STEM MS   \n",
       "59  2018-01-01       Ohio    Cuyahoga   Cleveland  GT Craig NCore   \n",
       "\n",
       "     parameter_name   units_of_measure  arithmetic_mean  aqi  \n",
       "1   Carbon monoxide  Parts per million         0.263158    5  \n",
       "12  Carbon monoxide  Parts per million         0.252632    3  \n",
       "22  Carbon monoxide  Parts per million         0.394737    6  \n",
       "51  Carbon monoxide  Parts per million         0.083333    3  \n",
       "59  Carbon monoxide  Parts per million         0.250000    3  "
      ]
     },
     "execution_count": 41,
     "metadata": {},
     "output_type": "execute_result"
    }
   ],
   "source": [
    "# Check head\n",
    "new_york.head()\n",
    "ohio.head()"
   ]
  },
  {
   "cell_type": "code",
   "execution_count": 55,
   "id": "b4955aa5",
   "metadata": {},
   "outputs": [
    {
     "name": "stdout",
     "output_type": "stream",
     "text": [
      "2.5\n",
      "3.3333333333333335\n"
     ]
    }
   ],
   "source": [
    "print(new_york['aqi'].mean())\n",
    "print(ohio['aqi'].mean())"
   ]
  },
  {
   "cell_type": "markdown",
   "metadata": {
    "id": "029b0f9c-0d0c-475f-b745-643a313e2b79"
   },
   "source": [
    "**Formulate your null and alternative hypotheses:**\n",
    "\n",
    "*   $H_0$: The mean AQI of New York is greater than or equal to that of Ohio.\n",
    "*   $H_A$: The mean AQI of New York is **below** that of Ohio.\n"
   ]
  },
  {
   "cell_type": "markdown",
   "metadata": {
    "id": "b12559f5-bd57-4664-be80-7208ca8818b4"
   },
   "source": [
    "#### Significance Level (remains at 5%)"
   ]
  },
  {
   "cell_type": "markdown",
   "metadata": {
    "id": "2b57fcf8-6f9d-4dae-ba0d-4af9a24d991d"
   },
   "source": [
    "#### Determine the appropriate test procedure:"
   ]
  },
  {
   "cell_type": "markdown",
   "metadata": {
    "id": "8ac7075f-1342-4522-9c49-1f43574d05f8"
   },
   "source": [
    "Here, you are comparing the sample means between two independent samples in one direction. Therefore, you will utilize a **two-sample  𝑡-test**."
   ]
  },
  {
   "cell_type": "markdown",
   "metadata": {
    "id": "77f03fc8-0663-48b2-af4b-2936b35027e7"
   },
   "source": [
    "#### Compute the P-value"
   ]
  },
  {
   "cell_type": "code",
   "execution_count": 43,
   "metadata": {
    "id": "e495500f-c3d9-4cf2-ad1d-4687640a01b4",
    "tags": []
   },
   "outputs": [
    {
     "name": "stdout",
     "output_type": "stream",
     "text": [
      "0.06089300538386936\n"
     ]
    }
   ],
   "source": [
    "# Compute your p-value here\n",
    "t_stat, p_value = stats.ttest_ind(new_york['aqi'], ohio['aqi'], equal_var=False)\n",
    "print(p_value)"
   ]
  },
  {
   "cell_type": "markdown",
   "metadata": {
    "id": "d56642db-8f45-405a-af7d-69bd3ad3fe58"
   },
   "source": [
    "#### **Question 3. What is your P-value for hypothesis 2, and what does this indicate for your null hypothesis?**"
   ]
  },
  {
   "cell_type": "code",
   "execution_count": 44,
   "metadata": {},
   "outputs": [
    {
     "name": "stdout",
     "output_type": "stream",
     "text": [
      "p_value > 0.05, Fail to reject Ho.\n"
     ]
    }
   ],
   "source": [
    "# Your code here.\n",
    "if p_value < 0.05:\n",
    "    \n",
    "    print('p_value < 0.05, Reject Ho.')          # Ha: There is a difference in the mean\n",
    "else:\n",
    "    print('p_value > 0.05, Fail to reject Ho.')  # Ho: There is no difference in the mean"
   ]
  },
  {
   "cell_type": "markdown",
   "metadata": {
    "id": "dFDxoQ9aJxz3"
   },
   "source": [
    "A: We fail to reject the null hypothesis because the p-value is greater than 5%. This means that there is no statistically significant difference in means"
   ]
  },
  {
   "cell_type": "markdown",
   "metadata": {
    "id": "4308fdf1-3080-4697-a0b4-4c7c59c49b9b"
   },
   "source": [
    "###  Hypothesis 3: A new policy will affect those states with a mean AQI of 10 or greater. Will Michigan be affected by this new policy?\n",
    "\n",
    "Before proceeding with your analysis, it will be helpful to subset the data for your comparison."
   ]
  },
  {
   "cell_type": "code",
   "execution_count": 60,
   "metadata": {
    "id": "559c43b4-ccb3-4a05-91d4-8f4aaee4d8b7"
   },
   "outputs": [
    {
     "data": {
      "text/plain": [
       "np.float64(8.11111111111111)"
      ]
     },
     "execution_count": 60,
     "metadata": {},
     "output_type": "execute_result"
    }
   ],
   "source": [
    "# Create dataframes for each sample being compared in your test\n",
    "michigan = epa_data[epa_data['state_name'] == \"Michigan\"]\n",
    "michigan['aqi'].mean()"
   ]
  },
  {
   "cell_type": "markdown",
   "metadata": {
    "id": "b25225ee-02d7-4d42-8746-9e68598b7bf6"
   },
   "source": [
    "**Formulate your null and alternative hypotheses here:**\n",
    "\n",
    "*   $H_0$: The mean AQI of Michigan is less than or equal to 10.\n",
    "*   $H_A$: The mean AQI of Michigan is greater than 10.\n"
   ]
  },
  {
   "cell_type": "markdown",
   "metadata": {
    "id": "32581125-a9ef-4b17-b8d5-0e1085d4c746"
   },
   "source": [
    "#### Significance Level (remains at 5%)"
   ]
  },
  {
   "cell_type": "markdown",
   "metadata": {
    "id": "915f8cd0-d06b-44ab-81f6-0effa96fae09"
   },
   "source": [
    "#### Determine the appropriate test procedure:"
   ]
  },
  {
   "cell_type": "markdown",
   "metadata": {
    "id": "6753e251-d152-48c9-a5ad-bd46b62636ee"
   },
   "source": [
    "Here, you are comparing one sample mean relative to a particular value in one direction. Therefore, you will utilize a **one-sample  𝑡-test**. "
   ]
  },
  {
   "cell_type": "markdown",
   "metadata": {
    "id": "95443324-76bb-4473-b07b-dcc0c9be7251"
   },
   "source": [
    "#### Compute the P-value"
   ]
  },
  {
   "cell_type": "code",
   "execution_count": 62,
   "metadata": {
    "id": "8b86c9f5-284a-4ed7-b2d4-2b531e0092f9",
    "tags": []
   },
   "outputs": [
    {
     "name": "stdout",
     "output_type": "stream",
     "text": [
      "p_value > 0.05, Fail to reject Ho.\n"
     ]
    }
   ],
   "source": [
    "# Compute your p-value here\n",
    "t_stat, p_value = stats.ttest_ind(michigan['aqi'], 10, equal_var=False)\n",
    "\n",
    "if p_value < 0.05:\n",
    "    \n",
    "    print('p_value < 0.05, Reject Ho.')          # Ha: There is a difference in the mean\n",
    "else:\n",
    "    print('p_value > 0.05, Fail to reject Ho.')  # Ho: There is no difference in the mean"
   ]
  },
  {
   "cell_type": "markdown",
   "metadata": {
    "id": "33175451-2fed-4105-8a46-1bfb0ad3b714"
   },
   "source": [
    "#### **Question 4. What is your P-value for hypothesis 3, and what does this indicate for your null hypothesis?**"
   ]
  },
  {
   "cell_type": "markdown",
   "metadata": {
    "id": "Li8YaXdqJuBF"
   },
   "source": [
    "A: A: We fail to reject the null hypothesis because the p-value is greater than 5%. This means that there is no statistically significant difference between 10 and Michigan's mean aqi"
   ]
  },
  {
   "cell_type": "markdown",
   "metadata": {
    "id": "oS3JWcpU127z"
   },
   "source": [
    "## Step 4. Results and Evaluation\n",
    "\n",
    "Now that you've completed your statistical tests, you can consider your hypotheses and the results you gathered."
   ]
  },
  {
   "cell_type": "markdown",
   "metadata": {
    "id": "q2p_8BmC16V-"
   },
   "source": [
    "#### **Question 5. Did your results show that the AQI in Los Angeles County was statistically different from the rest of California?**"
   ]
  },
  {
   "cell_type": "markdown",
   "metadata": {
    "id": "US0JnLp3JrfX"
   },
   "source": [
    "A: no"
   ]
  },
  {
   "cell_type": "markdown",
   "metadata": {
    "id": "G7-YawsW68Yd"
   },
   "source": [
    "#### **Question 6. Did New York or Ohio have a lower AQI?**"
   ]
  },
  {
   "cell_type": "markdown",
   "metadata": {
    "id": "zzSBoJwMJpgG"
   },
   "source": [
    "A: New york"
   ]
  },
  {
   "cell_type": "markdown",
   "metadata": {
    "id": "ppAmh9nD7HkZ"
   },
   "source": [
    "#### **Question 7: Will Michigan be affected by the new policy impacting states with a mean AQI of 10 or greater?**\n",
    "\n"
   ]
  },
  {
   "cell_type": "markdown",
   "metadata": {
    "id": "1nfqgTngJnLV"
   },
   "source": [
    "A: They could be, as their mean aqi is below 10 but is not statistically different from 10."
   ]
  },
  {
   "cell_type": "markdown",
   "metadata": {
    "id": "e2bf2c48-c712-4310-a83e-96a13edc4da1"
   },
   "source": [
    "# Conclusion\n",
    "\n",
    "**What are key takeaways from this project?**\n",
    "\n",
    "A: how to do hypthesis testing using scipy\n",
    "\n",
    "**What would you consider presenting to your manager as part of your findings?**\n",
    "\n",
    "A: that there is no statistically significant difference between Los Angeles and California, New York has a lower AQI than Ohio, making it a better location for an office (even if it's not statistically different from Ohio), and that Michigan could be impacted by new regulations.\n",
    "\n",
    "\n",
    "**What would you convey to external readers?**\n",
    "\n",
    "A: This repot shows the power of data-driven decisions. By using statistical analysis, we can allocate resources to effectively to maximize public health benefits.\n"
   ]
  },
  {
   "cell_type": "markdown",
   "id": "8310edc2",
   "metadata": {},
   "source": []
  }
 ],
 "metadata": {
  "colab": {
   "collapsed_sections": [
    "b12559f5-bd57-4664-be80-7208ca8818b4",
    "32581125-a9ef-4b17-b8d5-0e1085d4c746"
   ],
   "provenance": []
  },
  "kernelspec": {
   "display_name": "Python 3",
   "language": "python",
   "name": "python3"
  },
  "language_info": {
   "codemirror_mode": {
    "name": "ipython",
    "version": 3
   },
   "file_extension": ".py",
   "mimetype": "text/x-python",
   "name": "python",
   "nbconvert_exporter": "python",
   "pygments_lexer": "ipython3",
   "version": "3.13.1"
  }
 },
 "nbformat": 4,
 "nbformat_minor": 5
}
