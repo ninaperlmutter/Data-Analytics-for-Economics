{
 "cells": [
  {
   "cell_type": "markdown",
   "metadata": {
    "id": "d25eed62-5910-4d10-a976-c18c4f7d99f7"
   },
   "source": [
    "# Mini Project 5-4 Explore confidence intervals"
   ]
  },
  {
   "cell_type": "markdown",
   "metadata": {
    "id": "b50579ec-09df-4bb1-ad5a-d28f4790ca16"
   },
   "source": [
    "## Introduction"
   ]
  },
  {
   "cell_type": "markdown",
   "metadata": {
    "id": "6a8992ac-22d5-41db-aa09-263b464950e0"
   },
   "source": [
    "The Air Quality Index (AQI) is the Environmental Protection Agency's index for reporting air quality. A value close to 0 signals little to no public health concern, while higher values are associated with increased risk to public health. The United States is considering a new federal policy that would create a subsidy for renewable energy in states observing an average AQI of 10 or above. <br>\n",
    "\n",
    "You've just started your new role as a data analyst in the Strategy division of Ripple Renewable Energy (RRE). **RRE operates in the following U.S. states: `California`, `Florida`, `Michigan`, `Ohio`, `Pennsylvania`, `Texas`.** You've been tasked with constructing an analysis which identifies which of these states are most likely to be affected, should the new federal policy be enacted."
   ]
  },
  {
   "cell_type": "markdown",
   "metadata": {
    "id": "6e4e3b8a-b5f9-4fe1-a824-0bd3aece693c"
   },
   "source": [
    "Your manager has requested that you do the following for your analysis:\n",
    "1. Provide a summary of the mean AQI for the states in which RRE operates.\n",
    "2. Construct a boxplot visualization for AQI of these states using `seaborn`.\n",
    "3. Evaluate which state(s) may be most affected by this policy, based on the data and your boxplot visualization.\n",
    "4. Construct a confidence interval for the RRE state with the highest mean AQI."
   ]
  },
  {
   "cell_type": "markdown",
   "metadata": {
    "id": "3b4dc9a5-d724-4696-a704-57fefa9d5938"
   },
   "source": [
    "## Step 1: Imports\n",
    "\n",
    "### Import packages\n",
    "\n",
    "Import `pandas` and `numpy`."
   ]
  },
  {
   "cell_type": "code",
   "execution_count": 30,
   "metadata": {
    "id": "0b3d0e1c-23b9-4491-82a5-ac1e4bd36f30"
   },
   "outputs": [],
   "source": [
    "# Import relevant packages\n",
    "import matplotlib.pyplot as plt\n",
    "import numpy as np\n",
    "import pandas as pd\n",
    "from scipy import stats"
   ]
  },
  {
   "cell_type": "markdown",
   "metadata": {
    "id": "a4f7c0d0-027e-475a-bce5-ad96d059cd04"
   },
   "source": [
    "### Load the dataset\n",
    "\n",
    "The dataset provided gives national Air Quality Index (AQI) measurements by state over time.  `Pandas` is used to import the file `c4_epa_air_quality.csv` as a DataFrame named `aqi`. As shown in this cell, the dataset has been automatically loaded in for you. You do not need to download the .csv file, or provide more code, in order to access the dataset and proceed with this lab. Please continue with this activity by completing the following instructions.\n",
    "\n",
    "*Note: For the purposes of your analysis, you can assume this data is randomly sampled from a larger population.*"
   ]
  },
  {
   "cell_type": "code",
   "execution_count": 18,
   "metadata": {
    "id": "1ce82ed7-cf32-4028-ac77-a377e7638458",
    "tags": []
   },
   "outputs": [],
   "source": [
    "# Import data\n",
    "\n",
    "aqi = pd.read_csv('c4_epa_air_quality.csv', index_col = 0)\n",
    "aqi = aqi.dropna()"
   ]
  },
  {
   "cell_type": "markdown",
   "metadata": {
    "id": "JLW4ftpm15LA"
   },
   "source": [
    "## Step 2: Data exploration"
   ]
  },
  {
   "cell_type": "markdown",
   "metadata": {
    "id": "c1ee0813-5e74-4564-8ea1-8d724700754a"
   },
   "source": [
    "### Explore your dataset\n",
    "\n",
    "Before proceeding to your deliverables, spend some time exploring the `aqi` DataFrame. "
   ]
  },
  {
   "cell_type": "code",
   "execution_count": 19,
   "metadata": {},
   "outputs": [
    {
     "data": {
      "text/html": [
       "<div>\n",
       "<style scoped>\n",
       "    .dataframe tbody tr th:only-of-type {\n",
       "        vertical-align: middle;\n",
       "    }\n",
       "\n",
       "    .dataframe tbody tr th {\n",
       "        vertical-align: top;\n",
       "    }\n",
       "\n",
       "    .dataframe thead th {\n",
       "        text-align: right;\n",
       "    }\n",
       "</style>\n",
       "<table border=\"1\" class=\"dataframe\">\n",
       "  <thead>\n",
       "    <tr style=\"text-align: right;\">\n",
       "      <th></th>\n",
       "      <th>date_local</th>\n",
       "      <th>state_name</th>\n",
       "      <th>county_name</th>\n",
       "      <th>city_name</th>\n",
       "      <th>local_site_name</th>\n",
       "      <th>parameter_name</th>\n",
       "      <th>units_of_measure</th>\n",
       "      <th>arithmetic_mean</th>\n",
       "      <th>aqi</th>\n",
       "    </tr>\n",
       "  </thead>\n",
       "  <tbody>\n",
       "    <tr>\n",
       "      <th>0</th>\n",
       "      <td>2018-01-01</td>\n",
       "      <td>Arizona</td>\n",
       "      <td>Maricopa</td>\n",
       "      <td>Buckeye</td>\n",
       "      <td>BUCKEYE</td>\n",
       "      <td>Carbon monoxide</td>\n",
       "      <td>Parts per million</td>\n",
       "      <td>0.473684</td>\n",
       "      <td>7</td>\n",
       "    </tr>\n",
       "    <tr>\n",
       "      <th>1</th>\n",
       "      <td>2018-01-01</td>\n",
       "      <td>Ohio</td>\n",
       "      <td>Belmont</td>\n",
       "      <td>Shadyside</td>\n",
       "      <td>Shadyside</td>\n",
       "      <td>Carbon monoxide</td>\n",
       "      <td>Parts per million</td>\n",
       "      <td>0.263158</td>\n",
       "      <td>5</td>\n",
       "    </tr>\n",
       "    <tr>\n",
       "      <th>2</th>\n",
       "      <td>2018-01-01</td>\n",
       "      <td>Wyoming</td>\n",
       "      <td>Teton</td>\n",
       "      <td>Not in a city</td>\n",
       "      <td>Yellowstone National Park - Old Faithful Snow ...</td>\n",
       "      <td>Carbon monoxide</td>\n",
       "      <td>Parts per million</td>\n",
       "      <td>0.111111</td>\n",
       "      <td>2</td>\n",
       "    </tr>\n",
       "    <tr>\n",
       "      <th>3</th>\n",
       "      <td>2018-01-01</td>\n",
       "      <td>Pennsylvania</td>\n",
       "      <td>Philadelphia</td>\n",
       "      <td>Philadelphia</td>\n",
       "      <td>North East Waste (NEW)</td>\n",
       "      <td>Carbon monoxide</td>\n",
       "      <td>Parts per million</td>\n",
       "      <td>0.300000</td>\n",
       "      <td>3</td>\n",
       "    </tr>\n",
       "    <tr>\n",
       "      <th>4</th>\n",
       "      <td>2018-01-01</td>\n",
       "      <td>Iowa</td>\n",
       "      <td>Polk</td>\n",
       "      <td>Des Moines</td>\n",
       "      <td>CARPENTER</td>\n",
       "      <td>Carbon monoxide</td>\n",
       "      <td>Parts per million</td>\n",
       "      <td>0.215789</td>\n",
       "      <td>3</td>\n",
       "    </tr>\n",
       "    <tr>\n",
       "      <th>5</th>\n",
       "      <td>2018-01-01</td>\n",
       "      <td>Hawaii</td>\n",
       "      <td>Honolulu</td>\n",
       "      <td>Not in a city</td>\n",
       "      <td>Kapolei</td>\n",
       "      <td>Carbon monoxide</td>\n",
       "      <td>Parts per million</td>\n",
       "      <td>0.994737</td>\n",
       "      <td>14</td>\n",
       "    </tr>\n",
       "    <tr>\n",
       "      <th>6</th>\n",
       "      <td>2018-01-01</td>\n",
       "      <td>Hawaii</td>\n",
       "      <td>Honolulu</td>\n",
       "      <td>Not in a city</td>\n",
       "      <td>Kapolei</td>\n",
       "      <td>Carbon monoxide</td>\n",
       "      <td>Parts per million</td>\n",
       "      <td>0.200000</td>\n",
       "      <td>2</td>\n",
       "    </tr>\n",
       "    <tr>\n",
       "      <th>8</th>\n",
       "      <td>2018-01-01</td>\n",
       "      <td>Hawaii</td>\n",
       "      <td>Honolulu</td>\n",
       "      <td>Honolulu</td>\n",
       "      <td>Honolulu</td>\n",
       "      <td>Carbon monoxide</td>\n",
       "      <td>Parts per million</td>\n",
       "      <td>0.400000</td>\n",
       "      <td>5</td>\n",
       "    </tr>\n",
       "    <tr>\n",
       "      <th>9</th>\n",
       "      <td>2018-01-01</td>\n",
       "      <td>Colorado</td>\n",
       "      <td>Larimer</td>\n",
       "      <td>Fort Collins</td>\n",
       "      <td>Fort Collins - CSU - S. Mason</td>\n",
       "      <td>Carbon monoxide</td>\n",
       "      <td>Parts per million</td>\n",
       "      <td>0.300000</td>\n",
       "      <td>6</td>\n",
       "    </tr>\n",
       "    <tr>\n",
       "      <th>10</th>\n",
       "      <td>2018-01-01</td>\n",
       "      <td>Minnesota</td>\n",
       "      <td>Dakota</td>\n",
       "      <td>Rosemount</td>\n",
       "      <td>Flint Hills Refinery 420</td>\n",
       "      <td>Carbon monoxide</td>\n",
       "      <td>Parts per million</td>\n",
       "      <td>0.247368</td>\n",
       "      <td>3</td>\n",
       "    </tr>\n",
       "  </tbody>\n",
       "</table>\n",
       "</div>"
      ],
      "text/plain": [
       "    date_local    state_name   county_name      city_name  \\\n",
       "0   2018-01-01       Arizona      Maricopa        Buckeye   \n",
       "1   2018-01-01          Ohio       Belmont      Shadyside   \n",
       "2   2018-01-01       Wyoming         Teton  Not in a city   \n",
       "3   2018-01-01  Pennsylvania  Philadelphia   Philadelphia   \n",
       "4   2018-01-01          Iowa          Polk     Des Moines   \n",
       "5   2018-01-01        Hawaii      Honolulu  Not in a city   \n",
       "6   2018-01-01        Hawaii      Honolulu  Not in a city   \n",
       "8   2018-01-01        Hawaii      Honolulu       Honolulu   \n",
       "9   2018-01-01      Colorado       Larimer   Fort Collins   \n",
       "10  2018-01-01     Minnesota        Dakota      Rosemount   \n",
       "\n",
       "                                      local_site_name   parameter_name  \\\n",
       "0                                             BUCKEYE  Carbon monoxide   \n",
       "1                                           Shadyside  Carbon monoxide   \n",
       "2   Yellowstone National Park - Old Faithful Snow ...  Carbon monoxide   \n",
       "3                              North East Waste (NEW)  Carbon monoxide   \n",
       "4                                           CARPENTER  Carbon monoxide   \n",
       "5                                             Kapolei  Carbon monoxide   \n",
       "6                                             Kapolei  Carbon monoxide   \n",
       "8                                            Honolulu  Carbon monoxide   \n",
       "9                       Fort Collins - CSU - S. Mason  Carbon monoxide   \n",
       "10                           Flint Hills Refinery 420  Carbon monoxide   \n",
       "\n",
       "     units_of_measure  arithmetic_mean  aqi  \n",
       "0   Parts per million         0.473684    7  \n",
       "1   Parts per million         0.263158    5  \n",
       "2   Parts per million         0.111111    2  \n",
       "3   Parts per million         0.300000    3  \n",
       "4   Parts per million         0.215789    3  \n",
       "5   Parts per million         0.994737   14  \n",
       "6   Parts per million         0.200000    2  \n",
       "8   Parts per million         0.400000    5  \n",
       "9   Parts per million         0.300000    6  \n",
       "10  Parts per million         0.247368    3  "
      ]
     },
     "execution_count": 19,
     "metadata": {},
     "output_type": "execute_result"
    }
   ],
   "source": [
    "aqi.head(10)"
   ]
  },
  {
   "cell_type": "code",
   "execution_count": 52,
   "metadata": {},
   "outputs": [
    {
     "name": "stdout",
     "output_type": "stream",
     "text": [
      "<class 'pandas.core.frame.DataFrame'>\n",
      "Index: 257 entries, 0 to 259\n",
      "Data columns (total 9 columns):\n",
      " #   Column            Non-Null Count  Dtype  \n",
      "---  ------            --------------  -----  \n",
      " 0   date_local        257 non-null    object \n",
      " 1   state_name        257 non-null    object \n",
      " 2   county_name       257 non-null    object \n",
      " 3   city_name         257 non-null    object \n",
      " 4   local_site_name   257 non-null    object \n",
      " 5   parameter_name    257 non-null    object \n",
      " 6   units_of_measure  257 non-null    object \n",
      " 7   arithmetic_mean   257 non-null    float64\n",
      " 8   aqi               257 non-null    int64  \n",
      "dtypes: float64(1), int64(1), object(7)\n",
      "memory usage: 20.1+ KB\n"
     ]
    }
   ],
   "source": [
    "# Code Here\n",
    "aqi.info()"
   ]
  },
  {
   "cell_type": "code",
   "execution_count": 11,
   "metadata": {},
   "outputs": [
    {
     "data": {
      "text/plain": [
       "count            257\n",
       "unique            51\n",
       "top       California\n",
       "freq              66\n",
       "Name: state_name, dtype: object"
      ]
     },
     "execution_count": 11,
     "metadata": {},
     "output_type": "execute_result"
    }
   ],
   "source": [
    "aqi['state_name'].describe()"
   ]
  },
  {
   "cell_type": "markdown",
   "metadata": {
    "id": "DOPQ6EL9ZmrB"
   },
   "source": [
    "**Question:** What time range does this data cover?"
   ]
  },
  {
   "cell_type": "code",
   "execution_count": 12,
   "metadata": {},
   "outputs": [
    {
     "data": {
      "text/plain": [
       "count            257\n",
       "unique             1\n",
       "top       2018-01-01\n",
       "freq             257\n",
       "Name: date_local, dtype: object"
      ]
     },
     "execution_count": 12,
     "metadata": {},
     "output_type": "execute_result"
    }
   ],
   "source": [
    "aqi['date_local'].describe()"
   ]
  },
  {
   "cell_type": "markdown",
   "metadata": {},
   "source": [
    "A: Just January 1st, 2018"
   ]
  },
  {
   "cell_type": "markdown",
   "metadata": {
    "id": "Sw0U5NWpZ1wp"
   },
   "source": [
    "**Question:** What are the minimum and maximum AQI values observed in the dataset?"
   ]
  },
  {
   "cell_type": "code",
   "execution_count": 15,
   "metadata": {},
   "outputs": [
    {
     "data": {
      "text/plain": [
       "count    257.000000\n",
       "mean       6.782101\n",
       "std        7.091422\n",
       "min        0.000000\n",
       "25%        2.000000\n",
       "50%        5.000000\n",
       "75%        9.000000\n",
       "max       50.000000\n",
       "Name: aqi, dtype: float64"
      ]
     },
     "execution_count": 15,
     "metadata": {},
     "output_type": "execute_result"
    }
   ],
   "source": [
    "aqi['aqi'].describe()"
   ]
  },
  {
   "cell_type": "markdown",
   "id": "6bb255f4",
   "metadata": {},
   "source": [
    "A : min = 0, max = 50"
   ]
  },
  {
   "cell_type": "markdown",
   "metadata": {
    "id": "LWBj7cKZZ_du"
   },
   "source": [
    "**Question:** Are all states equally represented in the dataset?"
   ]
  },
  {
   "cell_type": "code",
   "execution_count": 51,
   "id": "36867191",
   "metadata": {},
   "outputs": [
    {
     "data": {
      "text/plain": [
       "count            257\n",
       "unique            51\n",
       "top       California\n",
       "freq              66\n",
       "Name: state_name, dtype: object"
      ]
     },
     "execution_count": 51,
     "metadata": {},
     "output_type": "execute_result"
    }
   ],
   "source": [
    "aqi['state_name'].describe()"
   ]
  },
  {
   "cell_type": "code",
   "execution_count": 71,
   "metadata": {},
   "outputs": [
    {
     "data": {
      "image/png": "[encoded data removed]",
      "text/plain": [
       "<Figure size 640x480 with 1 Axes>"
      ]
     },
     "metadata": {},
     "output_type": "display_data"
    }
   ],
   "source": [
    "plt.hist(aqi['state_name'], bins = 51)\n",
    "plt.xticks(aqi['state_name'], rotation = 90, fontsize = 6)\n",
    "plt.show()"
   ]
  },
  {
   "cell_type": "markdown",
   "metadata": {},
   "source": [
    "A: No, not all states are equally represented."
   ]
  },
  {
   "cell_type": "markdown",
   "metadata": {
    "id": "fd48d0f0-3f90-455e-87a1-0da43fcac202"
   },
   "source": [
    "## Step 3: Statistical tests\n",
    "\n",
    "### Summarize the mean AQI for RRE states\n",
    "\n",
    "Start with your first deliverable. Summarize the mean AQI for the states in which RRE operates (California, Florida, Michigan, Ohio, Pennsylvania, and Texas)."
   ]
  },
  {
   "cell_type": "code",
   "execution_count": 76,
   "metadata": {
    "id": "83ef0d80-48ec-4a5a-8acd-0fab137243c3",
    "tags": []
   },
   "outputs": [
    {
     "name": "stdout",
     "output_type": "stream",
     "text": [
      "     state_name        aqi\n",
      "0    California  12.121212\n",
      "1       Florida   5.500000\n",
      "2      Michigan   8.111111\n",
      "3          Ohio   3.333333\n",
      "4  Pennsylvania   3.000000\n",
      "5         Texas   2.700000\n"
     ]
    }
   ],
   "source": [
    "# Summarize the mean AQI for RRE states.\n",
    "# Create a list of RRE states.\n",
    "\n",
    "rre_states = ['California', 'Florida', 'Michigan', 'Ohio', 'Pennsylvania', 'Texas']\n",
    "\n",
    "# Subset `aqi` to only consider these states.\n",
    "aqi_rre = aqi[aqi['state_name'].isin(rre_states)]\n",
    "\n",
    "# Compute the mean AQI for each RRE state\n",
    "aqi_rre_mean = aqi_rre.groupby('state_name')['aqi'].mean().reset_index()\n",
    "\n",
    "# Display the result\n",
    "print(aqi_rre_mean)\n"
   ]
  },
  {
   "cell_type": "markdown",
   "metadata": {
    "id": "883abc8c-5aa9-480e-ac4b-c1c64f8ae0fd"
   },
   "source": [
    "### Construct a boxplot visualization for the AQI of these states\n",
    "\n",
    "Seaborn is a simple visualization library, commonly imported as `sns`. Import `seaborn`. Then utilize a boxplot visualization from this library to compare the distributions of AQI scores by state."
   ]
  },
  {
   "cell_type": "code",
   "execution_count": 83,
   "metadata": {
    "id": "ca381599-7cba-4454-922c-3383a2b7608d"
   },
   "outputs": [
    {
     "data": {
      "image/png": "[encoded data removed]",
      "text/plain": [
       "<Figure size 640x480 with 1 Axes>"
      ]
     },
     "metadata": {},
     "output_type": "display_data"
    }
   ],
   "source": [
    "import seaborn as sns\n",
    "\n",
    "# Create a boxplot for AQI distributions by state\n",
    "sns.boxplot(data=aqi_rre, x='state_name', y='aqi')\n",
    "\n",
    "# label the plot\n",
    "plt.xticks(rotation=-30)  # Rotate state labels for readability\n",
    "plt.xlabel('State')\n",
    "plt.ylabel('AQI')\n",
    "plt.title('AQI Distribution by State')\n",
    "\n",
    "# Show the plot\n",
    "plt.show()"
   ]
  },
  {
   "cell_type": "code",
   "execution_count": 84,
   "metadata": {
    "id": "50040050-1ff3-4d0e-a9e1-d2fd00454ce3"
   },
   "outputs": [
    {
     "data": {
      "image/png": "[encoded data removed]",
      "text/plain": [
       "<Figure size 640x480 with 1 Axes>"
      ]
     },
     "metadata": {},
     "output_type": "display_data"
    }
   ],
   "source": [
    "# Create a violin plot to show the distribution of AQI by state\n",
    "sns.violinplot(data=aqi_rre, x='state_name', y='aqi', inner='box')\n",
    "\n",
    "# label the plot\n",
    "plt.xticks(rotation=-30)  # Rotate labels for readability\n",
    "plt.xlabel('State')\n",
    "plt.ylabel('AQI')\n",
    "plt.title('Distribution of AQI by State')\n",
    "\n",
    "# Show the plot in-line\n",
    "plt.show()"
   ]
  },
  {
   "cell_type": "markdown",
   "metadata": {
    "id": "5e2af1a1-7816-4d8b-929b-41268234a579"
   },
   "source": [
    "**Question:** Based on the data and your visualizations, which state(s) do you suspect will be most affected by this policy?"
   ]
  },
  {
   "cell_type": "markdown",
   "metadata": {
    "id": "ZbPjfp_wgVpg"
   },
   "source": [
    "A: California and maybe Michigan"
   ]
  },
  {
   "cell_type": "markdown",
   "metadata": {
    "id": "b01231e9-0a80-4457-a47e-c62c2c230ae4"
   },
   "source": [
    "### Construct a confidence interval for the RRE state with the highest mean AQI\n",
    "\n",
    "Recall the 4-step process in constructing a confidence interval:\n",
    "\n",
    "1.   Identify a sample statistic.\n",
    "2.   Choose a confidence level.\n",
    "3.   Find the margin of error. \n",
    "4.   Calculate the interval."
   ]
  },
  {
   "cell_type": "markdown",
   "metadata": {
    "id": "587f8053-6cbd-454a-a390-9307e5a65b1b"
   },
   "source": [
    "### Construct your sample statistic\n",
    "\n",
    "To contruct your sample statistic, find the mean AQI for CA."
   ]
  },
  {
   "cell_type": "code",
   "execution_count": 85,
   "metadata": {
    "id": "58af6462-80ab-4055-85de-c99c87129752"
   },
   "outputs": [
    {
     "name": "stdout",
     "output_type": "stream",
     "text": [
      "Mean AQI for California: 12.121212121212121\n"
     ]
    }
   ],
   "source": [
    "# Find the mean aqi for CA state.\n",
    "\n",
    "mean_aqi_ca = aqi_rre[aqi_rre['state_name'] == 'California']['aqi'].mean()\n",
    "print(\"Mean AQI for California:\", mean_aqi_ca)"
   ]
  },
  {
   "cell_type": "markdown",
   "metadata": {
    "id": "9a15605d-5b99-4033-940f-1fab630ad6c1"
   },
   "source": [
    "### Choose your confidence level\n",
    "\n",
    "Choose your confidence level for your analysis. The most typical confidence level chosen is 95%; however, you can choose 90% or 99% if you want decrease or increase (respectively) your level of confidence about your result."
   ]
  },
  {
   "cell_type": "code",
   "execution_count": 15,
   "metadata": {
    "id": "0a9c1f39-b4e2-4ec3-9369-dd313fd2d835",
    "outputId": "c035e170-c781-46b7-d1ec-5af2c66a7b1f"
   },
   "outputs": [],
   "source": [
    "# Input your confidence level here:\n",
    "\n",
    "# 95%"
   ]
  },
  {
   "cell_type": "markdown",
   "metadata": {
    "id": "ac18cb1b-40ca-4de3-bc0a-08be82f64781"
   },
   "source": [
    "### Find your margin of error (ME)\n",
    "\n",
    "Recall **margin of error = z * standard error**, where z is the appropriate z-value for the given confidence level. To calculate your margin of error:\n",
    "\n",
    "- Find your z-value. \n",
    "- Find the approximate z for common confidence levels.\n",
    "- Calculate your **standard error** estimate. \n",
    "\n",
    "| Confidence Level | Z Score |\n",
    "| --- | --- |\n",
    "| 90% | 1.65 |\n",
    "| 95% | 1.96 |\n",
    "| 99% | 2.58 |\n"
   ]
  },
  {
   "cell_type": "code",
   "execution_count": 87,
   "metadata": {
    "id": "930e5fb6-171c-4bba-a601-d5e3b84e2fdb"
   },
   "outputs": [
    {
     "name": "stdout",
     "output_type": "stream",
     "text": [
      "Margin of Error (95% Confidence): 1.7614930896609726\n"
     ]
    }
   ],
   "source": [
    "# Calculate your margin of error.\n",
    "\n",
    "# Begin by identifying the z associated with your chosen confidence level.\n",
    "\n",
    "z_value = 1.96\n",
    "aqi_ca = aqi_rre[aqi_rre['state_name'] == 'California']['aqi']\n",
    "\n",
    "\n",
    "# Next, calculate your standard error.\n",
    "\n",
    "n = len(aqi_ca)\n",
    "se = np.std(aqi_ca, ddof=1) / np.sqrt(n)\n",
    "\n",
    "# Lastly, use the preceding result to calculate your margin of error.\n",
    "\n",
    "me = z_value * se\n",
    "\n",
    "print(\"Margin of Error (95% Confidence):\", me)"
   ]
  },
  {
   "cell_type": "markdown",
   "metadata": {
    "id": "6b0d173b-06d4-4e82-81d8-092b24132bd2"
   },
   "source": [
    "### Calculate your interval\n",
    "\n",
    "Calculate both a lower and upper limit surrounding your sample mean to create your interval."
   ]
  },
  {
   "cell_type": "code",
   "execution_count": 92,
   "metadata": {
    "id": "f83a7ba7-afdd-4d8c-8b78-849cff363180"
   },
   "outputs": [
    {
     "name": "stdout",
     "output_type": "stream",
     "text": [
      "CI (95%): [10.3597, 13.8827]\n"
     ]
    }
   ],
   "source": [
    "# Calculate your confidence interval (upper and lower limits).\n",
    "\n",
    "upper_me_limit = mean_aqi_ca + me\n",
    "lower_me_limit = mean_aqi_ca - me\n",
    "\n",
    "print(f'CI (95%): [{round(lower_me_limit, 4)}, {round(upper_me_limit, 4)}]')"
   ]
  },
  {
   "cell_type": "markdown",
   "metadata": {
    "id": "82e06ed3-2ec3-4851-b3df-2c6d969ea616"
   },
   "source": [
    "### Alternative: Construct the interval using `scipy.stats.norm.interval()`\n",
    "\n",
    "`scipy` presents a simpler solution to developing a confidence interval. To use this, first import the `stats` module from `scipy`."
   ]
  },
  {
   "cell_type": "code",
   "execution_count": 100,
   "metadata": {
    "id": "0b6d2ecc-03ff-47ab-9d2d-57857fc38ca0"
   },
   "outputs": [],
   "source": [
    "from scipy import stats\n",
    "\n"
   ]
  },
  {
   "cell_type": "markdown",
   "metadata": {
    "id": "ba8af068-f28e-4c29-82c9-238bc0f16ed1"
   },
   "source": [
    "## Step 4: Results and evaluation\n",
    "\n",
    "### Recalculate your confidence interval\n",
    "\n",
    "Provide your chosen `confidence_level`, `sample_mean`, and `standard_error` to `stats.norm.interval()` and recalculate your confidence interval."
   ]
  },
  {
   "cell_type": "code",
   "execution_count": 101,
   "metadata": {
    "id": "f908eb99-ce5c-472f-891e-80a47cef5fed"
   },
   "outputs": [
    {
     "name": "stdout",
     "output_type": "stream",
     "text": [
      "Confidence Interval (95%): [10.3598, 13.8827]\n"
     ]
    }
   ],
   "source": [
    "# Define confidence level (95%)\n",
    "confidence_level = 0.95\n",
    "\n",
    "# Compute confidence interval using scipy\n",
    "ci_lower, ci_upper = stats.norm.interval(confidence_level, loc=mean_aqi_ca, scale=se)\n",
    "\n",
    "# Display results\n",
    "print(f\"Confidence Interval (95%): [{round(ci_lower, 4)}, {round(ci_upper, 4)}]\")"
   ]
  },
  {
   "cell_type": "markdown",
   "metadata": {
    "id": "feb3e273-1aab-4965-bceb-8b8933c743b5"
   },
   "source": [
    "# Considerations"
   ]
  },
  {
   "cell_type": "markdown",
   "metadata": {},
   "source": [
    "**What are some key takeaways that you learned from this project?**\n",
    "\n",
    "A: helped me understand air quality variability and the role of confidence intervals in reflecting uncertainty. learned how to make boxplots and violin plots to communicate AQI distribution."
   ]
  },
  {
   "cell_type": "markdown",
   "metadata": {},
   "source": [
    "**What findings would you share with others?**\n",
    "\n",
    "A: Air quality varies significantly across states, and the margin of error highlights uncertainty in data interpretation. For example california has the highest mean AQI, but due to the variability in AQI, is has the largest confidence interval. "
   ]
  },
  {
   "cell_type": "markdown",
   "metadata": {},
   "source": [
    "**What would you convey to external readers?**\n",
    "\n",
    "A: That it is important to asses the risk high AQI pose to public health and that can be addressed through assessments like these"
   ]
  },
  {
   "cell_type": "markdown",
   "metadata": {
    "id": "0IVWUekbeFEq"
   },
   "source": [
    "**References**\n",
    "\n",
    "[seaborn.boxplot — seaborn 0.12.1 documentation](https://seaborn.pydata.org/generated/seaborn.boxplot.html). (n.d.). "
   ]
  }
 ],
 "metadata": {
  "colab": {
   "collapsed_sections": [],
   "provenance": []
  },
  "kernelspec": {
   "display_name": "Python 3",
   "language": "python",
   "name": "python3"
  },
  "language_info": {
   "codemirror_mode": {
    "name": "ipython",
    "version": 3
   },
   "file_extension": ".py",
   "mimetype": "text/x-python",
   "name": "python",
   "nbconvert_exporter": "python",
   "pygments_lexer": "ipython3",
   "version": "3.13.1"
  }
 },
 "nbformat": 4,
 "nbformat_minor": 5
}
