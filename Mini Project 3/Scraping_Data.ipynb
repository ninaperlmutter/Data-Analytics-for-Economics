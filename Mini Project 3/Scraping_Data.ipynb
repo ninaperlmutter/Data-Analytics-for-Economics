{
  "cells": [
    {
      "cell_type": "markdown",
      "metadata": {
        "id": "56tfDxbWVq9b"
      },
      "source": [
        "# **Scraping a Site**\n",
        "### Extract links for all countries from the website https://starbucksmenuprices.com/.\n"
      ]
    },
    {
      "cell_type": "markdown",
      "metadata": {
        "id": "UTkEIC3CWIvR"
      },
      "source": [
        "## **Step 1: Install Necessary Libraries**\n",
        "Python libraries extend the functionality of Python. Here, we need:\n",
        "*   requests: To fetch the webpage.\n",
        "*   BeautifulSoup (from bs4): To parse and extract data from the HTML.\n",
        "*   **selenium** is used for web automation to scrape exchange rates.\n",
        "*   **pandas** is used to read the consolidated latte prices CSV file.\n",
        "### **Command:**"
      ]
    },
    {
      "cell_type": "code",
      "execution_count": 22,
      "metadata": {
        "id": "wf-x5vXBWJLM"
      },
      "outputs": [],
      "source": [
        "# pip install requests beautifulsoup4 pandas selenium matplotlib seaborn geopandas pycountry"
      ]
    },
    {
      "cell_type": "markdown",
      "metadata": {
        "id": "OrNyesRYWegF"
      },
      "source": [
        "## **Step 2: Import Libraries**\n",
        "We start the Python script by importing the libraries we installed. Think of this as unlocking tools we’ll need for our task.\n",
        "*   **import requests**: Enables us to send a request to a webpage.\n",
        "*   **from bs4 import BeautifulSoup**: Allows us to use BeautifulSoup for extracting data.\n",
        "### **Command:**"
      ]
    },
    {
      "cell_type": "code",
      "execution_count": 2,
      "metadata": {
        "id": "WR3ARXxfWZY_"
      },
      "outputs": [],
      "source": [
        "# Importing necessary libraries\n",
        "import requests  # For fetching the webpage\n",
        "from bs4 import BeautifulSoup  # For parsing the webpage"
      ]
    },
    {
      "cell_type": "markdown",
      "metadata": {
        "id": "tJU96afEWt9W"
      },
      "source": [
        "## **Step 3: Fetch the Webpage Content**\n",
        "Webpages are made of HTML (a markup language for displaying content). To analyze it, we first need to download the HTML using Python.\n",
        "*  **url = '...'**: This variable stores the URL of the website we want to scrape.\n",
        "*  **requests.get(url)**: Sends a request to the server to get the webpage's content.\n",
        "*   **response.status_code**: Checks the server's response. A code of 200 means the request was successful."
      ]
    },
    {
      "cell_type": "code",
      "execution_count": 3,
      "metadata": {
        "colab": {
          "base_uri": "https://localhost:8080/"
        },
        "id": "J8UNA0YZXAxP",
        "outputId": "4b0c701e-a0bc-4835-8b72-9e3478a20b3a"
      },
      "outputs": [
        {
          "name": "stdout",
          "output_type": "stream",
          "text": [
            "Successfully fetched the webpage!\n"
          ]
        }
      ],
      "source": [
        "# URL of the webpage to scrape\n",
        "url = 'https://starbucksmenuprices.com/'\n",
        "\n",
        "# Send a request to the server\n",
        "response = requests.get(url)\n",
        "\n",
        "# Check if the request was successful\n",
        "if response.status_code == 200:\n",
        "    print(\"Successfully fetched the webpage!\")\n",
        "else:\n",
        "    print(f\"Failed to fetch webpage. Status code: {response.status_code}\")\n"
      ]
    },
    {
      "cell_type": "markdown",
      "metadata": {
        "id": "awzb8luHdFja"
      },
      "source": [
        "**Common Status Codes:**\n",
        "*   200 OK: The request was successful.\n",
        "*   201 Created: The request has been fulfilled, resulting in the creation of a new resource.\n",
        "*   204 No Content: The server successfully processed the request, but is not returning any content.\n",
        "*   301 Moved Permanently: The requested resource has been permanently moved to a new location.\n",
        "*   302 Found (Temporary Redirect): The requested resource has been temporarily moved to a new location.\n",
        "*   400 Bad Request: The server cannot or will not process the request due to an apparent client error.\n",
        "*   401 Unauthorized: The request requires user authentication.\n",
        "*   403 Forbidden: The server understood the request, but refuses to fulfill it.\n",
        "*   404 Not Found: The server cannot find the requested resource.\n",
        "*   500 Internal Server Error: The server encountered an unexpected condition that prevented it from fulfilling the request.\n",
        "*   503 Service Unavailable: The server is currently unable to handle the request due to a temporary overload or maintenance."
      ]
    },
    {
      "cell_type": "markdown",
      "metadata": {
        "id": "Heh1vR1FXUqZ"
      },
      "source": [
        "## **Step 4: Parse the HTML Content**\n",
        "Now that we have the HTML, we need to make it readable for Python using BeautifulSoup.\n",
        "*  **response.text**: The raw HTML text of the webpage.\n",
        "*   **BeautifulSoup(..., 'html.parser')**: Converts the raw HTML into a structured format that Python can easily work with.\n",
        "*   **soup.prettify()**: Prints the HTML in an indented format, making it easier to inspect.\n",
        "\n",
        "\n",
        "\n"
      ]
    },
    {
      "cell_type": "code",
      "execution_count": 4,
      "metadata": {
        "id": "-U2hL-IFX0Jg"
      },
      "outputs": [],
      "source": [
        "# Parse the webpage content with BeautifulSoup\n",
        "soup = BeautifulSoup(response.text, 'html.parser')\n",
        "\n",
        "# Print the HTML content to understand its structure\n",
        "# print(soup.prettify())\n"
      ]
    },
    {
      "cell_type": "markdown",
      "metadata": {
        "id": "9IdlMyIyX4WT"
      },
      "source": [
        "## **Step 5: Locate the Links**\n",
        "To extract links, inspect the website’s structure using your browser’s developer tools (right-click > \"Inspect\").\n",
        "\n",
        "*   Identify the < a > tags (used for links) within the < ul > list elements.\n",
        "*  **soup.find_all('ul')**: Finds all < ul > (unordered list) elements on the page.\n",
        "\n",
        "\n",
        "\n",
        "\n"
      ]
    },
    {
      "cell_type": "code",
      "execution_count": 5,
      "metadata": {
        "colab": {
          "base_uri": "https://localhost:8080/"
        },
        "id": "HPb3iMD1X0tD",
        "outputId": "5e92e3b6-b018-4ecf-a034-87f0e2d48bdf"
      },
      "outputs": [
        {
          "name": "stdout",
          "output_type": "stream",
          "text": [
            "<ul class=\"sub-menu\">\n",
            "<li class=\"menu-item menu-item-type-post_type menu-item-object-page menu-item-32\" id=\"menu-item-32\"><a href=\"https://starbucksmenuprices.com/starbucks-au-prices/\">Australia</a></li>\n",
            "<li class=\"menu-item menu-item-type-post_type menu-item-object-page menu-item-42\" id=\"menu-item-42\"><a href=\"https://starbucksmenuprices.com/starbucks-brasil-precos/\">Brasil</a></li>\n",
            "<li class=\"menu-item menu-item-type-post_type menu-item-object-page menu-item-70\" id=\"menu-item-70\"><a href=\"https://starbucksmenuprices.com/starbucks-%d1%86%d0%b5%d0%bd%d0%b8/\">Bulgaria</a></li>\n",
            "<li class=\"menu-item menu-item-type-post_type menu-item-object-page menu-item-58\" id=\"menu-item-58\"><a href=\"https://starbucksmenuprices.com/starbucks-canada-menu/\">Canada</a></li>\n",
            "</ul>\n"
          ]
        }
      ],
      "source": [
        "# Find all <ul> elements containing the country links\n",
        "sections = soup.find_all('ul')  # Locate all <ul> elements\n",
        "\n",
        "# Lists in Python: The result is a list, which can store multiple items.\n",
        "print(sections[1])"
      ]
    },
    {
      "cell_type": "code",
      "execution_count": 6,
      "metadata": {
        "colab": {
          "base_uri": "https://localhost:8080/"
        },
        "id": "p7_XXuejYaDE",
        "outputId": "6886139a-bd5d-4045-d4ac-6415987fdd6b"
      },
      "outputs": [
        {
          "name": "stdout",
          "output_type": "stream",
          "text": [
            "apple banana cherry\n"
          ]
        }
      ],
      "source": [
        "# Example of List:\n",
        "my_list = ['apple', 'banana', 'cherry']\n",
        "print(my_list[0],my_list[1],my_list[2])"
      ]
    },
    {
      "cell_type": "markdown",
      "metadata": {
        "id": "e6kLrbMGZgXR"
      },
      "source": [
        "## **Step 6: Extract Links**\n",
        "Now, loop through each < ul > section to find < a > tags (anchors), which represent links.\n",
        "\n",
        "*   **link.text.strip()**: Extracts the text (e.g., \"Australia\") and removes extra spaces.\n",
        "*  **link.get('href')**: Retrieves the URL linked to the < a > tag.\n",
        "*  **country_links.append({...})**: Adds a dictionary with country name and URL to the list.\n",
        "\n",
        "\n",
        "\n",
        "\n"
      ]
    },
    {
      "cell_type": "code",
      "execution_count": 7,
      "metadata": {
        "id": "O6lTXhJVY5jf"
      },
      "outputs": [],
      "source": [
        "# Extract links from the <ul> sections\n",
        "country_links = []  # Empty list to store results\n",
        "\n",
        "for section in sections:\n",
        "    links = section.find_all('a')  # Find all <a> tags in each section\n",
        "    for link in links:\n",
        "        country_name = link.text.strip()  # Get the visible text of the link\n",
        "        country_url = link.get('href')  # Get the href attribute (URL)\n",
        "        country_links.append({'Country': country_name, 'URL': country_url})\n"
      ]
    },
    {
      "cell_type": "code",
      "execution_count": 8,
      "metadata": {
        "colab": {
          "base_uri": "https://localhost:8080/"
        },
        "id": "w7Y1LNOMZ4Cz",
        "outputId": "cfde1e36-cc55-4414-b074-9acfb2c84580"
      },
      "outputs": [
        {
          "name": "stdout",
          "output_type": "stream",
          "text": [
            "apple\n",
            "banana\n",
            "cherry\n"
          ]
        }
      ],
      "source": [
        "# Example of Loop:\n",
        "for fruit in ['apple', 'banana', 'cherry']:\n",
        "    print(fruit)\n"
      ]
    },
    {
      "cell_type": "markdown",
      "metadata": {
        "id": "TZwR1BEIaEMR"
      },
      "source": [
        "## **Step 7: Store Results in a DataFrame**\n",
        "DataFrames are tables provided by the **pandas** library, making it easy to organize and analyze data.\n",
        "*   **pd.DataFrame()**: Converts a list of dictionaries into a tabular format.\n",
        "*   **df.head()**: Displays the first 5 rows.\n",
        "\n"
      ]
    },
    {
      "cell_type": "code",
      "execution_count": 9,
      "metadata": {
        "colab": {
          "base_uri": "https://localhost:8080/"
        },
        "id": "sagggYqvaAjJ",
        "outputId": "539a2170-5552-463f-effd-e0d00c300f13"
      },
      "outputs": [
        {
          "name": "stdout",
          "output_type": "stream",
          "text": [
            "     Country                                                URL\n",
            "0        A-C                                                  #\n",
            "1  Australia  https://starbucksmenuprices.com/starbucks-au-p...\n",
            "2     Brasil  https://starbucksmenuprices.com/starbucks-bras...\n",
            "3   Bulgaria  https://starbucksmenuprices.com/starbucks-%d1%...\n",
            "4     Canada  https://starbucksmenuprices.com/starbucks-cana...\n"
          ]
        }
      ],
      "source": [
        "# Import pandas for working with data\n",
        "import pandas as pd\n",
        "\n",
        "# Convert the list of dictionaries into a DataFrame\n",
        "df = pd.DataFrame(country_links)\n",
        "\n",
        "# Display the first few rows of the DataFrame\n",
        "print(df.head())\n"
      ]
    },
    {
      "cell_type": "markdown",
      "metadata": {
        "id": "kZ9B3yLXaYzv"
      },
      "source": [
        "## **Step 8: Save Results to a CSV File**\n",
        "Finally, save the data to a CSV file, which can be opened in Excel or analyzed further.\n",
        "*   **to_csv()**: Exports the DataFrame to a file.\n",
        "*   **index=False**: Prevents saving row numbers in the CSV.\n",
        "\n"
      ]
    },
    {
      "cell_type": "code",
      "execution_count": 10,
      "metadata": {
        "colab": {
          "base_uri": "https://localhost:8080/"
        },
        "id": "PMcQbPTHaRzf",
        "outputId": "b78cbd9d-97cc-4e0b-b15d-eda4e60692e6"
      },
      "outputs": [
        {
          "name": "stdout",
          "output_type": "stream",
          "text": [
            "Saved country links to starbucks_country_links.csv\n"
          ]
        }
      ],
      "source": [
        "# Save the DataFrame to a CSV file\n",
        "df.to_csv('starbucks_country_links.csv', index=False)\n",
        "print(\"Saved country links to starbucks_country_links.csv\")\n"
      ]
    },
    {
      "cell_type": "markdown",
      "metadata": {
        "id": "SWH-gjY-anPT"
      },
      "source": [
        "## **Complete Script**"
      ]
    },
    {
      "cell_type": "code",
      "execution_count": 11,
      "metadata": {
        "colab": {
          "base_uri": "https://localhost:8080/"
        },
        "id": "nTBOre91akMU",
        "outputId": "8df09c4e-0447-4e85-b027-d8f62e2dc631"
      },
      "outputs": [
        {
          "name": "stdout",
          "output_type": "stream",
          "text": [
            "Successfully fetched the webpage!\n",
            "     Country                                                URL\n",
            "0        A-C                                                  #\n",
            "1  Australia  https://starbucksmenuprices.com/starbucks-au-p...\n",
            "2     Brasil  https://starbucksmenuprices.com/starbucks-bras...\n",
            "3   Bulgaria  https://starbucksmenuprices.com/starbucks-%d1%...\n",
            "4     Canada  https://starbucksmenuprices.com/starbucks-cana...\n",
            "Saved country links to starbucks_country_links.csv\n"
          ]
        }
      ],
      "source": [
        "# Import necessary libraries\n",
        "import requests\n",
        "from bs4 import BeautifulSoup\n",
        "import pandas as pd\n",
        "\n",
        "# Step 1: Fetch the webpage content\n",
        "url = 'https://starbucksmenuprices.com/'\n",
        "response = requests.get(url)\n",
        "if response.status_code == 200:\n",
        "    print(\"Successfully fetched the webpage!\")\n",
        "else:\n",
        "    print(f\"Failed to fetch webpage. Status code: {response.status_code}\")\n",
        "\n",
        "# Step 2: Parse the HTML content\n",
        "soup = BeautifulSoup(response.text, 'html.parser')\n",
        "\n",
        "# Step 3: Find all <ul> elements\n",
        "sections = soup.find_all('ul')\n",
        "\n",
        "# Step 4: Extract links\n",
        "country_links = []\n",
        "for section in sections:\n",
        "    links = section.find_all('a')\n",
        "    for link in links:\n",
        "        country_name = link.text.strip()\n",
        "        country_url = link.get('href')\n",
        "        country_links.append({'Country': country_name, 'URL': country_url})\n",
        "\n",
        "# Step 5: Convert to DataFrame\n",
        "df = pd.DataFrame(country_links)\n",
        "print(df.head())  # Display the first 5 rows\n",
        "\n",
        "# Step 6: Save to CSV\n",
        "df.to_csv('starbucks_country_links.csv', index=False)\n",
        "print(\"Saved country links to starbucks_country_links.csv\")\n"
      ]
    },
    {
      "cell_type": "markdown",
      "metadata": {
        "id": "-LMQgctXbC45"
      },
      "source": [
        "# **Extracting Starbucks Prices Data**\n",
        "### Example of scraping hot coffee price data."
      ]
    },
    {
      "cell_type": "markdown",
      "metadata": {
        "id": "NeWIMqaAbuPm"
      },
      "source": [
        "## **Step 1: Load the Links**\n",
        "*   **pd.read_csv()**: Reads the CSV file containing country links into a DataFrame.\n",
        "*   **links_file**: The file path of the CSV file.\n",
        "\n"
      ]
    },
    {
      "cell_type": "code",
      "execution_count": 19,
      "metadata": {
        "id": "34R8JoI8bJuf"
      },
      "outputs": [],
      "source": [
        "links_file = 'starbucks_country_links.csv'  # File containing country links\n",
        "country_links = pd.read_csv(links_file)  # Read the CSV file into a DataFrame"
      ]
    },
    {
      "cell_type": "markdown",
      "metadata": {
        "id": "7LVG-1Xub9Iw"
      },
      "source": [
        "## **Step 2: Filter Valid Links**\n",
        "*   **Filter Rows**: ~country_links['URL'].str.contains('#', na=False) excludes rows where the URL contains #.\n",
        "*   **iloc[0]**: Selects the first valid row.\n",
        "*   **Format Country Name**: Converts the country name to lowercase and replaces spaces with hyphens for file naming."
      ]
    },
    {
      "cell_type": "code",
      "execution_count": 20,
      "metadata": {
        "id": "UC_gy_nkb8JJ"
      },
      "outputs": [],
      "source": [
        "valid_links = country_links[~country_links['URL'].str.contains('#', na=False)]  # Filter rows without '#'\n",
        "if valid_links.empty:\n",
        "    print(\"No valid links found in the file.\")\n",
        "    exit()\n",
        "\n",
        "first_link = valid_links.iloc[0]  # Select the first valid row\n",
        "country_url = first_link['URL']  # Extract the URL from the first valid row\n",
        "country_name = first_link['Country'].lower().replace(' ', '-')  # Extract and format the country name\n"
      ]
    },
    {
      "cell_type": "markdown",
      "metadata": {
        "id": "Xtc5vnQ_cknT"
      },
      "source": [
        "## **Step 3: Fetch the Webpage**\n",
        "*   **requests.get(url)**: Fetches the HTML content of the URL.\n",
        "*   **Check Status Code**: Ensures the webpage was successfully fetched (200 status code).\n",
        "\n",
        "\n",
        "\n",
        "\n"
      ]
    },
    {
      "cell_type": "code",
      "execution_count": 21,
      "metadata": {
        "colab": {
          "base_uri": "https://localhost:8080/"
        },
        "id": "MwYfH5dAb3Cv",
        "outputId": "dbb1dcf2-dbdd-4e91-fbba-4bb691d87347"
      },
      "outputs": [
        {
          "name": "stdout",
          "output_type": "stream",
          "text": [
            "Successfully fetched the page: https://starbucksmenuprices.com/starbucks-au-prices/\n"
          ]
        }
      ],
      "source": [
        "response = requests.get(country_url)\n",
        "if response.status_code == 200:\n",
        "    print(f\"Successfully fetched the page: {country_url}\")\n",
        "else:\n",
        "    print(f\"Failed to fetch webpage. Status code: {response.status_code}\")\n",
        "    exit()"
      ]
    },
    {
      "cell_type": "markdown",
      "metadata": {
        "id": "k0DrR1tjdnZo"
      },
      "source": [
        "## **Step 4: Parse the HTML**\n",
        "*   **BeautifulSoup(..., 'html.parser')**: Parses the HTML content into a structured format."
      ]
    },
    {
      "cell_type": "code",
      "execution_count": 22,
      "metadata": {
        "id": "b7NWyL2McptM"
      },
      "outputs": [],
      "source": [
        "soup = BeautifulSoup(response.text, 'html.parser')"
      ]
    },
    {
      "cell_type": "markdown",
      "metadata": {
        "id": "AeGYq65neXz_"
      },
      "source": [
        "## **Step 5: Locate \"h2\" Section**\n",
        "*   **Find < h2 > Heading**: Searches for the \"h2\" heading.\n",
        "*   **Find Parent Table**: If the heading is found, locate the parent table containing the data."
      ]
    },
    {
      "cell_type": "code",
      "execution_count": 23,
      "metadata": {
        "id": "2w5i8SDpeTqS"
      },
      "outputs": [],
      "source": [
        "starbucks_prices_heading = soup.find('h2')  # Locate the \"h2\" section heading\n",
        "if starbucks_prices_heading:\n",
        "    starbucks_prices_table = starbucks_prices_heading.find_parent('table')  # Find the parent table containing the data\n",
        "else:\n",
        "    print(\"'Hot Coffee' section not found on the page.\")\n",
        "    exit()"
      ]
    },
    {
      "cell_type": "markdown",
      "metadata": {
        "id": "LS9viHetekWf"
      },
      "source": [
        "## **Step 6: Extract Data**\n",
        "*   **Find Rows**: Selects rows with class item.\n",
        "*  **Extract Columns**: Extracts text from each column and cleans it."
      ]
    },
    {
      "cell_type": "code",
      "execution_count": 24,
      "metadata": {
        "id": "I75UQkcxegiq"
      },
      "outputs": [],
      "source": [
        "starbucks_prices_data = []  # List to store extracted data\n",
        "if starbucks_prices_table:\n",
        "    rows = starbucks_prices_table.find_all('tr', class_='item')  # Find all rows with class \"item\"\n",
        "    for row in rows:\n",
        "        cols = row.find_all('td')  # Find all columns in the row\n",
        "        cols = [col.string.strip() for col in cols]  # Clean the text\n",
        "        if cols:  # Skip empty rows\n",
        "            starbucks_prices_data.append(cols)"
      ]
    },
    {
      "cell_type": "markdown",
      "metadata": {
        "id": "44TUK1Lsg2TA"
      },
      "source": [
        "## **Step 7: Save Data**\n",
        "*   **Dynamic File Name**: Includes the country name in the file name.\n",
        "*  **Save to CSV**: Exports the data to a CSV file."
      ]
    },
    {
      "cell_type": "code",
      "execution_count": 27,
      "metadata": {
        "colab": {
          "base_uri": "https://localhost:8080/"
        },
        "id": "1RZD09uUetEr",
        "outputId": "4ef5f214-595c-4b12-f1a2-8be47482c132"
      },
      "outputs": [
        {
          "name": "stdout",
          "output_type": "stream",
          "text": [
            "Saved 'Starbucks Prices' prices to starbucks_prices_australia.csv\n",
            "                              Item  Price\n",
            "0                     Banana Bread  $6.30\n",
            "1                 Butter Croissant  $5.78\n",
            "2                 Almond Croissant  $5.78\n",
            "3                Pain Au Chocolate  $5.50\n",
            "4                 Pain Au Chocolat  $6.00\n",
            "..                             ...    ...\n",
            "74               Caramel Macchiato  $6.88\n",
            "75           White Chocolate Mocha  $6.16\n",
            "76                     Caffé Mocha  $6.35\n",
            "77         Caramel Cloud Macchiato  $8.00\n",
            "78  Honeycomb Salted Caramel Latte  $7.30\n",
            "\n",
            "[79 rows x 2 columns]\n"
          ]
        }
      ],
      "source": [
        "if starbucks_prices_data:\n",
        "    df_starbucks_prices= pd.DataFrame(starbucks_prices_data, columns=['Item', 'Price'])  # Create a DataFrame\n",
        "    output_file = f'starbucks_prices_{country_name}.csv'  # Generate file name with country name\n",
        "    df_starbucks_prices.to_csv(output_file, index=False)  # Save to CSV\n",
        "    print(f\"Saved 'Starbucks Prices' prices to {output_file}\")\n",
        "    print(df_starbucks_prices)  # Print the result\n",
        "else:\n",
        "    print(\"No 'Starbucks Prices Data' data found.\")\n"
      ]
    },
    {
      "cell_type": "markdown",
      "metadata": {},
      "source": [
        "## **Complete Script**"
      ]
    },
    {
      "cell_type": "code",
      "execution_count": 1,
      "metadata": {
        "id": "QU5qaet1g9kG"
      },
      "outputs": [
        {
          "name": "stdout",
          "output_type": "stream",
          "text": [
            "Fetching data for australia from https://starbucksmenuprices.com/starbucks-au-prices/...\n",
            "Successfully fetched the page: https://starbucksmenuprices.com/starbucks-au-prices/\n",
            "Saved 'Starbucks Prices' prices to starbucks_prices_australia.csv\n",
            "Fetching data for brasil from https://starbucksmenuprices.com/starbucks-brasil-precos/...\n",
            "Successfully fetched the page: https://starbucksmenuprices.com/starbucks-brasil-precos/\n",
            "Saved 'Starbucks Prices' prices to starbucks_prices_brasil.csv\n",
            "Fetching data for bulgaria from https://starbucksmenuprices.com/starbucks-%d1%86%d0%b5%d0%bd%d0%b8/...\n",
            "Successfully fetched the page: https://starbucksmenuprices.com/starbucks-%d1%86%d0%b5%d0%bd%d0%b8/\n",
            "Saved 'Starbucks Prices' prices to starbucks_prices_bulgaria.csv\n",
            "Fetching data for canada from https://starbucksmenuprices.com/starbucks-canada-menu/...\n",
            "Successfully fetched the page: https://starbucksmenuprices.com/starbucks-canada-menu/\n",
            "Saved 'Starbucks Prices' prices to starbucks_prices_canada.csv\n",
            "Fetching data for colombia from https://starbucksmenuprices.com/starbucks-colombia-precios/...\n",
            "Successfully fetched the page: https://starbucksmenuprices.com/starbucks-colombia-precios/\n",
            "Saved 'Starbucks Prices' prices to starbucks_prices_colombia.csv\n",
            "Fetching data for costa-rica from https://starbucksmenuprices.com/starbucks-menu-costa-rica/...\n",
            "Successfully fetched the page: https://starbucksmenuprices.com/starbucks-menu-costa-rica/\n",
            "No 'Starbucks Prices Data' found for costa-rica. Skipping...\n",
            "Fetching data for chile from https://starbucksmenuprices.com/starbucks-precios-chile/...\n",
            "Successfully fetched the page: https://starbucksmenuprices.com/starbucks-precios-chile/\n",
            "Saved 'Starbucks Prices' prices to starbucks_prices_chile.csv\n",
            "Fetching data for czech-republic from https://starbucksmenuprices.com/starbucks-ceny-menu/...\n",
            "Successfully fetched the page: https://starbucksmenuprices.com/starbucks-ceny-menu/\n",
            "Saved 'Starbucks Prices' prices to starbucks_prices_czech-republic.csv\n",
            "Fetching data for denmark from https://starbucksmenuprices.com/starbucks-menu-priser/...\n",
            "Successfully fetched the page: https://starbucksmenuprices.com/starbucks-menu-priser/\n",
            "Saved 'Starbucks Prices' prices to starbucks_prices_denmark.csv\n",
            "Fetching data for guatemala from https://starbucksmenuprices.com/starbucks-guatemala-precios/...\n",
            "Successfully fetched the page: https://starbucksmenuprices.com/starbucks-guatemala-precios/\n",
            "No 'Starbucks Prices Data' found for guatemala. Skipping...\n",
            "Fetching data for greece from https://starbucksmenuprices.com/%cf%84%ce%b9%ce%bc%ce%ad%cf%82-%ce%bc%ce%b5%ce%bd%ce%bf%cf%8d-starbucks/...\n",
            "Successfully fetched the page: https://starbucksmenuprices.com/%cf%84%ce%b9%ce%bc%ce%ad%cf%82-%ce%bc%ce%b5%ce%bd%ce%bf%cf%8d-starbucks/\n",
            "Saved 'Starbucks Prices' prices to starbucks_prices_greece.csv\n",
            "Fetching data for france from https://starbucksmenuprices.com/starbucks-menu-prix/...\n",
            "Successfully fetched the page: https://starbucksmenuprices.com/starbucks-menu-prix/\n",
            "Saved 'Starbucks Prices' prices to starbucks_prices_france.csv\n",
            "Fetching data for finland from https://starbucksmenuprices.com/starbucks-hinta/...\n",
            "Successfully fetched the page: https://starbucksmenuprices.com/starbucks-hinta/\n",
            "Saved 'Starbucks Prices' prices to starbucks_prices_finland.csv\n",
            "Fetching data for hungary from https://starbucksmenuprices.com/starbucks-kave-arak/...\n",
            "Successfully fetched the page: https://starbucksmenuprices.com/starbucks-kave-arak/\n",
            "Saved 'Starbucks Prices' prices to starbucks_prices_hungary.csv\n",
            "Fetching data for italy from https://starbucksmenuprices.com/starbucks-prezzo/...\n",
            "Successfully fetched the page: https://starbucksmenuprices.com/starbucks-prezzo/\n",
            "Saved 'Starbucks Prices' prices to starbucks_prices_italy.csv\n",
            "Fetching data for méxico from https://starbucksmenuprices.com/starbucks-precios-mexico/...\n",
            "Successfully fetched the page: https://starbucksmenuprices.com/starbucks-precios-mexico/\n",
            "Saved 'Starbucks Prices' prices to starbucks_prices_méxico.csv\n",
            "Fetching data for poland from https://starbucksmenuprices.com/starbucks-menu-ceny/...\n",
            "Successfully fetched the page: https://starbucksmenuprices.com/starbucks-menu-ceny/\n",
            "Saved 'Starbucks Prices' prices to starbucks_prices_poland.csv\n",
            "Fetching data for portugal from https://starbucksmenuprices.com/starbucks-portugal-precos/...\n",
            "Successfully fetched the page: https://starbucksmenuprices.com/starbucks-portugal-precos/\n",
            "Saved 'Starbucks Prices' prices to starbucks_prices_portugal.csv\n",
            "Fetching data for romania from https://starbucksmenuprices.com/starbucks-preturi-romania/...\n",
            "Successfully fetched the page: https://starbucksmenuprices.com/starbucks-preturi-romania/\n",
            "Saved 'Starbucks Prices' prices to starbucks_prices_romania.csv\n",
            "Fetching data for south-africa from https://starbucksmenuprices.com/starbucks-menu-prices-south-africa/...\n",
            "Successfully fetched the page: https://starbucksmenuprices.com/starbucks-menu-prices-south-africa/\n",
            "Saved 'Starbucks Prices' prices to starbucks_prices_south-africa.csv\n",
            "Fetching data for spain from https://starbucksmenuprices.com/starbucks-precios-espana/...\n",
            "Successfully fetched the page: https://starbucksmenuprices.com/starbucks-precios-espana/\n",
            "No 'Starbucks Prices Data' found for spain. Skipping...\n",
            "Fetching data for switzerland from https://starbucksmenuprices.com/starbucks-menu-preise/...\n",
            "Successfully fetched the page: https://starbucksmenuprices.com/starbucks-menu-preise/\n",
            "Saved 'Starbucks Prices' prices to starbucks_prices_switzerland.csv\n",
            "Fetching data for united-kingdom from https://starbucksmenuprices.com/starbucks-menu-prices-uk/...\n",
            "Successfully fetched the page: https://starbucksmenuprices.com/starbucks-menu-prices-uk/\n",
            "Saved 'Starbucks Prices' prices to starbucks_prices_united-kingdom.csv\n",
            "Fetching data for united-states from https://starbucksmenuprices.com/starbucks-prices-in-usa/...\n",
            "Successfully fetched the page: https://starbucksmenuprices.com/starbucks-prices-in-usa/\n",
            "Saved 'Starbucks Prices' prices to starbucks_prices_united-states.csv\n",
            "Fetching data for about from https://starbucksmenuprices.com/about/...\n",
            "Successfully fetched the page: https://starbucksmenuprices.com/about/\n",
            "No 'Starbucks Prices Data' found for about. Skipping...\n",
            "Fetching data for australia from https://starbucksmenuprices.com/starbucks-au-prices/...\n",
            "Successfully fetched the page: https://starbucksmenuprices.com/starbucks-au-prices/\n",
            "Saved 'Starbucks Prices' prices to starbucks_prices_australia.csv\n",
            "Fetching data for brasil from https://starbucksmenuprices.com/starbucks-brasil-precos/...\n",
            "Successfully fetched the page: https://starbucksmenuprices.com/starbucks-brasil-precos/\n",
            "Saved 'Starbucks Prices' prices to starbucks_prices_brasil.csv\n",
            "Fetching data for bulgaria from https://starbucksmenuprices.com/starbucks-%d1%86%d0%b5%d0%bd%d0%b8/...\n",
            "Successfully fetched the page: https://starbucksmenuprices.com/starbucks-%d1%86%d0%b5%d0%bd%d0%b8/\n",
            "Saved 'Starbucks Prices' prices to starbucks_prices_bulgaria.csv\n",
            "Fetching data for canada from https://starbucksmenuprices.com/starbucks-canada-menu/...\n",
            "Successfully fetched the page: https://starbucksmenuprices.com/starbucks-canada-menu/\n",
            "Saved 'Starbucks Prices' prices to starbucks_prices_canada.csv\n",
            "Fetching data for colombia from https://starbucksmenuprices.com/starbucks-colombia-precios/...\n",
            "Successfully fetched the page: https://starbucksmenuprices.com/starbucks-colombia-precios/\n",
            "Saved 'Starbucks Prices' prices to starbucks_prices_colombia.csv\n",
            "Fetching data for costa-rica from https://starbucksmenuprices.com/starbucks-menu-costa-rica/...\n",
            "Successfully fetched the page: https://starbucksmenuprices.com/starbucks-menu-costa-rica/\n",
            "No 'Starbucks Prices Data' found for costa-rica. Skipping...\n",
            "Fetching data for chile from https://starbucksmenuprices.com/starbucks-precios-chile/...\n",
            "Successfully fetched the page: https://starbucksmenuprices.com/starbucks-precios-chile/\n",
            "Saved 'Starbucks Prices' prices to starbucks_prices_chile.csv\n",
            "Fetching data for czech-republic from https://starbucksmenuprices.com/starbucks-ceny-menu/...\n",
            "Successfully fetched the page: https://starbucksmenuprices.com/starbucks-ceny-menu/\n",
            "Saved 'Starbucks Prices' prices to starbucks_prices_czech-republic.csv\n",
            "Fetching data for denmark from https://starbucksmenuprices.com/starbucks-menu-priser/...\n",
            "Successfully fetched the page: https://starbucksmenuprices.com/starbucks-menu-priser/\n",
            "Saved 'Starbucks Prices' prices to starbucks_prices_denmark.csv\n",
            "Fetching data for guatemala from https://starbucksmenuprices.com/starbucks-guatemala-precios/...\n",
            "Successfully fetched the page: https://starbucksmenuprices.com/starbucks-guatemala-precios/\n",
            "No 'Starbucks Prices Data' found for guatemala. Skipping...\n",
            "Fetching data for greece from https://starbucksmenuprices.com/%cf%84%ce%b9%ce%bc%ce%ad%cf%82-%ce%bc%ce%b5%ce%bd%ce%bf%cf%8d-starbucks/...\n",
            "Successfully fetched the page: https://starbucksmenuprices.com/%cf%84%ce%b9%ce%bc%ce%ad%cf%82-%ce%bc%ce%b5%ce%bd%ce%bf%cf%8d-starbucks/\n",
            "Saved 'Starbucks Prices' prices to starbucks_prices_greece.csv\n",
            "Fetching data for france from https://starbucksmenuprices.com/starbucks-menu-prix/...\n",
            "Successfully fetched the page: https://starbucksmenuprices.com/starbucks-menu-prix/\n",
            "Saved 'Starbucks Prices' prices to starbucks_prices_france.csv\n",
            "Fetching data for finland from https://starbucksmenuprices.com/starbucks-hinta/...\n",
            "Successfully fetched the page: https://starbucksmenuprices.com/starbucks-hinta/\n",
            "Saved 'Starbucks Prices' prices to starbucks_prices_finland.csv\n",
            "Fetching data for hungary from https://starbucksmenuprices.com/starbucks-kave-arak/...\n",
            "Successfully fetched the page: https://starbucksmenuprices.com/starbucks-kave-arak/\n",
            "Saved 'Starbucks Prices' prices to starbucks_prices_hungary.csv\n",
            "Fetching data for italy from https://starbucksmenuprices.com/starbucks-prezzo/...\n",
            "Successfully fetched the page: https://starbucksmenuprices.com/starbucks-prezzo/\n",
            "Saved 'Starbucks Prices' prices to starbucks_prices_italy.csv\n",
            "Fetching data for méxico from https://starbucksmenuprices.com/starbucks-precios-mexico/...\n",
            "Successfully fetched the page: https://starbucksmenuprices.com/starbucks-precios-mexico/\n",
            "Saved 'Starbucks Prices' prices to starbucks_prices_méxico.csv\n",
            "Fetching data for poland from https://starbucksmenuprices.com/starbucks-menu-ceny/...\n",
            "Successfully fetched the page: https://starbucksmenuprices.com/starbucks-menu-ceny/\n",
            "Saved 'Starbucks Prices' prices to starbucks_prices_poland.csv\n",
            "Fetching data for portugal from https://starbucksmenuprices.com/starbucks-portugal-precos/...\n",
            "Successfully fetched the page: https://starbucksmenuprices.com/starbucks-portugal-precos/\n",
            "Saved 'Starbucks Prices' prices to starbucks_prices_portugal.csv\n",
            "Fetching data for romania from https://starbucksmenuprices.com/starbucks-preturi-romania/...\n",
            "Successfully fetched the page: https://starbucksmenuprices.com/starbucks-preturi-romania/\n",
            "Saved 'Starbucks Prices' prices to starbucks_prices_romania.csv\n",
            "Fetching data for south-africa from https://starbucksmenuprices.com/starbucks-menu-prices-south-africa/...\n",
            "Successfully fetched the page: https://starbucksmenuprices.com/starbucks-menu-prices-south-africa/\n",
            "Saved 'Starbucks Prices' prices to starbucks_prices_south-africa.csv\n",
            "Fetching data for spain from https://starbucksmenuprices.com/starbucks-precios-espana/...\n",
            "Successfully fetched the page: https://starbucksmenuprices.com/starbucks-precios-espana/\n",
            "No 'Starbucks Prices Data' found for spain. Skipping...\n",
            "Fetching data for switzerland from https://starbucksmenuprices.com/starbucks-menu-preise/...\n",
            "Successfully fetched the page: https://starbucksmenuprices.com/starbucks-menu-preise/\n",
            "Saved 'Starbucks Prices' prices to starbucks_prices_switzerland.csv\n",
            "Fetching data for united-kingdom from https://starbucksmenuprices.com/starbucks-menu-prices-uk/...\n",
            "Successfully fetched the page: https://starbucksmenuprices.com/starbucks-menu-prices-uk/\n",
            "Saved 'Starbucks Prices' prices to starbucks_prices_united-kingdom.csv\n",
            "Fetching data for united-states from https://starbucksmenuprices.com/starbucks-prices-in-usa/...\n",
            "Successfully fetched the page: https://starbucksmenuprices.com/starbucks-prices-in-usa/\n",
            "Saved 'Starbucks Prices' prices to starbucks_prices_united-states.csv\n",
            "Fetching data for australia from https://starbucksmenuprices.com/starbucks-au-prices/...\n",
            "Successfully fetched the page: https://starbucksmenuprices.com/starbucks-au-prices/\n",
            "Saved 'Starbucks Prices' prices to starbucks_prices_australia.csv\n",
            "Fetching data for brasil from https://starbucksmenuprices.com/starbucks-brasil-precos/...\n",
            "Successfully fetched the page: https://starbucksmenuprices.com/starbucks-brasil-precos/\n",
            "Saved 'Starbucks Prices' prices to starbucks_prices_brasil.csv\n",
            "Fetching data for bulgaria from https://starbucksmenuprices.com/starbucks-%d1%86%d0%b5%d0%bd%d0%b8/...\n",
            "Successfully fetched the page: https://starbucksmenuprices.com/starbucks-%d1%86%d0%b5%d0%bd%d0%b8/\n",
            "Saved 'Starbucks Prices' prices to starbucks_prices_bulgaria.csv\n",
            "Fetching data for canada from https://starbucksmenuprices.com/starbucks-canada-menu/...\n",
            "Successfully fetched the page: https://starbucksmenuprices.com/starbucks-canada-menu/\n",
            "Saved 'Starbucks Prices' prices to starbucks_prices_canada.csv\n",
            "Fetching data for colombia from https://starbucksmenuprices.com/starbucks-colombia-precios/...\n",
            "Successfully fetched the page: https://starbucksmenuprices.com/starbucks-colombia-precios/\n",
            "Saved 'Starbucks Prices' prices to starbucks_prices_colombia.csv\n",
            "Fetching data for costa-rica from https://starbucksmenuprices.com/starbucks-menu-costa-rica/...\n",
            "Successfully fetched the page: https://starbucksmenuprices.com/starbucks-menu-costa-rica/\n",
            "No 'Starbucks Prices Data' found for costa-rica. Skipping...\n",
            "Fetching data for chile from https://starbucksmenuprices.com/starbucks-precios-chile/...\n",
            "Successfully fetched the page: https://starbucksmenuprices.com/starbucks-precios-chile/\n",
            "Saved 'Starbucks Prices' prices to starbucks_prices_chile.csv\n",
            "Fetching data for czech-republic from https://starbucksmenuprices.com/starbucks-ceny-menu/...\n",
            "Successfully fetched the page: https://starbucksmenuprices.com/starbucks-ceny-menu/\n",
            "Saved 'Starbucks Prices' prices to starbucks_prices_czech-republic.csv\n",
            "Fetching data for denmark from https://starbucksmenuprices.com/starbucks-menu-priser/...\n",
            "Successfully fetched the page: https://starbucksmenuprices.com/starbucks-menu-priser/\n",
            "Saved 'Starbucks Prices' prices to starbucks_prices_denmark.csv\n",
            "Fetching data for guatemala from https://starbucksmenuprices.com/starbucks-guatemala-precios/...\n",
            "Successfully fetched the page: https://starbucksmenuprices.com/starbucks-guatemala-precios/\n",
            "No 'Starbucks Prices Data' found for guatemala. Skipping...\n",
            "Fetching data for greece from https://starbucksmenuprices.com/%cf%84%ce%b9%ce%bc%ce%ad%cf%82-%ce%bc%ce%b5%ce%bd%ce%bf%cf%8d-starbucks/...\n",
            "Successfully fetched the page: https://starbucksmenuprices.com/%cf%84%ce%b9%ce%bc%ce%ad%cf%82-%ce%bc%ce%b5%ce%bd%ce%bf%cf%8d-starbucks/\n",
            "Saved 'Starbucks Prices' prices to starbucks_prices_greece.csv\n",
            "Fetching data for france from https://starbucksmenuprices.com/starbucks-menu-prix/...\n",
            "Successfully fetched the page: https://starbucksmenuprices.com/starbucks-menu-prix/\n",
            "Saved 'Starbucks Prices' prices to starbucks_prices_france.csv\n",
            "Fetching data for finland from https://starbucksmenuprices.com/starbucks-hinta/...\n",
            "Successfully fetched the page: https://starbucksmenuprices.com/starbucks-hinta/\n",
            "Saved 'Starbucks Prices' prices to starbucks_prices_finland.csv\n",
            "Fetching data for hungary from https://starbucksmenuprices.com/starbucks-kave-arak/...\n",
            "Successfully fetched the page: https://starbucksmenuprices.com/starbucks-kave-arak/\n",
            "Saved 'Starbucks Prices' prices to starbucks_prices_hungary.csv\n",
            "Fetching data for italy from https://starbucksmenuprices.com/starbucks-prezzo/...\n",
            "Successfully fetched the page: https://starbucksmenuprices.com/starbucks-prezzo/\n",
            "Saved 'Starbucks Prices' prices to starbucks_prices_italy.csv\n",
            "Fetching data for méxico from https://starbucksmenuprices.com/starbucks-precios-mexico/...\n",
            "Successfully fetched the page: https://starbucksmenuprices.com/starbucks-precios-mexico/\n",
            "Saved 'Starbucks Prices' prices to starbucks_prices_méxico.csv\n",
            "Fetching data for poland from https://starbucksmenuprices.com/starbucks-menu-ceny/...\n",
            "Successfully fetched the page: https://starbucksmenuprices.com/starbucks-menu-ceny/\n",
            "Saved 'Starbucks Prices' prices to starbucks_prices_poland.csv\n",
            "Fetching data for portugal from https://starbucksmenuprices.com/starbucks-portugal-precos/...\n",
            "Successfully fetched the page: https://starbucksmenuprices.com/starbucks-portugal-precos/\n",
            "Saved 'Starbucks Prices' prices to starbucks_prices_portugal.csv\n",
            "Fetching data for romania from https://starbucksmenuprices.com/starbucks-preturi-romania/...\n",
            "Successfully fetched the page: https://starbucksmenuprices.com/starbucks-preturi-romania/\n",
            "Saved 'Starbucks Prices' prices to starbucks_prices_romania.csv\n",
            "Fetching data for south-africa from https://starbucksmenuprices.com/starbucks-menu-prices-south-africa/...\n",
            "Successfully fetched the page: https://starbucksmenuprices.com/starbucks-menu-prices-south-africa/\n",
            "Saved 'Starbucks Prices' prices to starbucks_prices_south-africa.csv\n",
            "Fetching data for spain from https://starbucksmenuprices.com/starbucks-precios-espana/...\n",
            "Successfully fetched the page: https://starbucksmenuprices.com/starbucks-precios-espana/\n",
            "No 'Starbucks Prices Data' found for spain. Skipping...\n",
            "Fetching data for switzerland from https://starbucksmenuprices.com/starbucks-menu-preise/...\n",
            "Successfully fetched the page: https://starbucksmenuprices.com/starbucks-menu-preise/\n",
            "Saved 'Starbucks Prices' prices to starbucks_prices_switzerland.csv\n",
            "Fetching data for united-kingdom from https://starbucksmenuprices.com/starbucks-menu-prices-uk/...\n",
            "Successfully fetched the page: https://starbucksmenuprices.com/starbucks-menu-prices-uk/\n",
            "Saved 'Starbucks Prices' prices to starbucks_prices_united-kingdom.csv\n",
            "Fetching data for united-states from https://starbucksmenuprices.com/starbucks-prices-in-usa/...\n",
            "Successfully fetched the page: https://starbucksmenuprices.com/starbucks-prices-in-usa/\n",
            "Saved 'Starbucks Prices' prices to starbucks_prices_united-states.csv\n",
            "Fetching data for about from https://starbucksmenuprices.com/about/...\n",
            "Successfully fetched the page: https://starbucksmenuprices.com/about/\n",
            "No 'Starbucks Prices Data' found for about. Skipping...\n",
            "Fetching data for australia from https://starbucksmenuprices.com/starbucks-au-prices/...\n",
            "Successfully fetched the page: https://starbucksmenuprices.com/starbucks-au-prices/\n",
            "Saved 'Starbucks Prices' prices to starbucks_prices_australia.csv\n",
            "Fetching data for brasil from https://starbucksmenuprices.com/starbucks-brasil-precos/...\n",
            "Successfully fetched the page: https://starbucksmenuprices.com/starbucks-brasil-precos/\n",
            "Saved 'Starbucks Prices' prices to starbucks_prices_brasil.csv\n",
            "Fetching data for bulgaria from https://starbucksmenuprices.com/starbucks-%d1%86%d0%b5%d0%bd%d0%b8/...\n",
            "Successfully fetched the page: https://starbucksmenuprices.com/starbucks-%d1%86%d0%b5%d0%bd%d0%b8/\n",
            "Saved 'Starbucks Prices' prices to starbucks_prices_bulgaria.csv\n",
            "Fetching data for canada from https://starbucksmenuprices.com/starbucks-canada-menu/...\n",
            "Successfully fetched the page: https://starbucksmenuprices.com/starbucks-canada-menu/\n",
            "Saved 'Starbucks Prices' prices to starbucks_prices_canada.csv\n",
            "Fetching data for colombia from https://starbucksmenuprices.com/starbucks-colombia-precios/...\n",
            "Successfully fetched the page: https://starbucksmenuprices.com/starbucks-colombia-precios/\n",
            "Saved 'Starbucks Prices' prices to starbucks_prices_colombia.csv\n",
            "Fetching data for costa-rica from https://starbucksmenuprices.com/starbucks-menu-costa-rica/...\n",
            "Successfully fetched the page: https://starbucksmenuprices.com/starbucks-menu-costa-rica/\n",
            "No 'Starbucks Prices Data' found for costa-rica. Skipping...\n",
            "Fetching data for chile from https://starbucksmenuprices.com/starbucks-precios-chile/...\n",
            "Successfully fetched the page: https://starbucksmenuprices.com/starbucks-precios-chile/\n",
            "Saved 'Starbucks Prices' prices to starbucks_prices_chile.csv\n",
            "Fetching data for czech-republic from https://starbucksmenuprices.com/starbucks-ceny-menu/...\n",
            "Successfully fetched the page: https://starbucksmenuprices.com/starbucks-ceny-menu/\n",
            "Saved 'Starbucks Prices' prices to starbucks_prices_czech-republic.csv\n",
            "Fetching data for denmark from https://starbucksmenuprices.com/starbucks-menu-priser/...\n",
            "Successfully fetched the page: https://starbucksmenuprices.com/starbucks-menu-priser/\n",
            "Saved 'Starbucks Prices' prices to starbucks_prices_denmark.csv\n",
            "Fetching data for guatemala from https://starbucksmenuprices.com/starbucks-guatemala-precios/...\n",
            "Successfully fetched the page: https://starbucksmenuprices.com/starbucks-guatemala-precios/\n",
            "No 'Starbucks Prices Data' found for guatemala. Skipping...\n",
            "Fetching data for greece from https://starbucksmenuprices.com/%cf%84%ce%b9%ce%bc%ce%ad%cf%82-%ce%bc%ce%b5%ce%bd%ce%bf%cf%8d-starbucks/...\n",
            "Successfully fetched the page: https://starbucksmenuprices.com/%cf%84%ce%b9%ce%bc%ce%ad%cf%82-%ce%bc%ce%b5%ce%bd%ce%bf%cf%8d-starbucks/\n",
            "Saved 'Starbucks Prices' prices to starbucks_prices_greece.csv\n",
            "Fetching data for france from https://starbucksmenuprices.com/starbucks-menu-prix/...\n",
            "Successfully fetched the page: https://starbucksmenuprices.com/starbucks-menu-prix/\n",
            "Saved 'Starbucks Prices' prices to starbucks_prices_france.csv\n",
            "Fetching data for finland from https://starbucksmenuprices.com/starbucks-hinta/...\n",
            "Successfully fetched the page: https://starbucksmenuprices.com/starbucks-hinta/\n",
            "Saved 'Starbucks Prices' prices to starbucks_prices_finland.csv\n",
            "Fetching data for hungary from https://starbucksmenuprices.com/starbucks-kave-arak/...\n",
            "Successfully fetched the page: https://starbucksmenuprices.com/starbucks-kave-arak/\n",
            "Saved 'Starbucks Prices' prices to starbucks_prices_hungary.csv\n",
            "Fetching data for italy from https://starbucksmenuprices.com/starbucks-prezzo/...\n",
            "Successfully fetched the page: https://starbucksmenuprices.com/starbucks-prezzo/\n",
            "Saved 'Starbucks Prices' prices to starbucks_prices_italy.csv\n",
            "Fetching data for méxico from https://starbucksmenuprices.com/starbucks-precios-mexico/...\n",
            "Successfully fetched the page: https://starbucksmenuprices.com/starbucks-precios-mexico/\n",
            "Saved 'Starbucks Prices' prices to starbucks_prices_méxico.csv\n",
            "Fetching data for poland from https://starbucksmenuprices.com/starbucks-menu-ceny/...\n",
            "Successfully fetched the page: https://starbucksmenuprices.com/starbucks-menu-ceny/\n",
            "Saved 'Starbucks Prices' prices to starbucks_prices_poland.csv\n",
            "Fetching data for portugal from https://starbucksmenuprices.com/starbucks-portugal-precos/...\n",
            "Successfully fetched the page: https://starbucksmenuprices.com/starbucks-portugal-precos/\n",
            "Saved 'Starbucks Prices' prices to starbucks_prices_portugal.csv\n",
            "Fetching data for romania from https://starbucksmenuprices.com/starbucks-preturi-romania/...\n",
            "Successfully fetched the page: https://starbucksmenuprices.com/starbucks-preturi-romania/\n",
            "Saved 'Starbucks Prices' prices to starbucks_prices_romania.csv\n",
            "Fetching data for south-africa from https://starbucksmenuprices.com/starbucks-menu-prices-south-africa/...\n",
            "Successfully fetched the page: https://starbucksmenuprices.com/starbucks-menu-prices-south-africa/\n",
            "Saved 'Starbucks Prices' prices to starbucks_prices_south-africa.csv\n",
            "Fetching data for spain from https://starbucksmenuprices.com/starbucks-precios-espana/...\n",
            "Successfully fetched the page: https://starbucksmenuprices.com/starbucks-precios-espana/\n",
            "No 'Starbucks Prices Data' found for spain. Skipping...\n",
            "Fetching data for switzerland from https://starbucksmenuprices.com/starbucks-menu-preise/...\n",
            "Successfully fetched the page: https://starbucksmenuprices.com/starbucks-menu-preise/\n",
            "Saved 'Starbucks Prices' prices to starbucks_prices_switzerland.csv\n",
            "Fetching data for united-kingdom from https://starbucksmenuprices.com/starbucks-menu-prices-uk/...\n",
            "Successfully fetched the page: https://starbucksmenuprices.com/starbucks-menu-prices-uk/\n",
            "Saved 'Starbucks Prices' prices to starbucks_prices_united-kingdom.csv\n",
            "Fetching data for united-states from https://starbucksmenuprices.com/starbucks-prices-in-usa/...\n",
            "Successfully fetched the page: https://starbucksmenuprices.com/starbucks-prices-in-usa/\n",
            "Saved 'Starbucks Prices' prices to starbucks_prices_united-states.csv\n",
            "Fetching data for how-much-is-a-frappuccino-at-sb? from https://starbucksmenuprices.com/how-much-is-a-caramel-frappuccino-at-starbucks/...\n",
            "Successfully fetched the page: https://starbucksmenuprices.com/how-much-is-a-caramel-frappuccino-at-starbucks/\n",
            "No 'Starbucks Prices Data' found for how-much-is-a-frappuccino-at-sb?. Skipping...\n",
            "Fetching data for how-much-is-a-cookie-frappuccino? from https://starbucksmenuprices.com/how-much-is-a-chocolate-cookie-crumble-creme-frappuccino/...\n",
            "Successfully fetched the page: https://starbucksmenuprices.com/how-much-is-a-chocolate-cookie-crumble-creme-frappuccino/\n",
            "No 'Starbucks Prices Data' found for how-much-is-a-cookie-frappuccino?. Skipping...\n",
            "Fetching data for how-much-is-a-pink-drink-at-sb? from https://starbucksmenuprices.com/how-much-is-a-pink-drink-at-starbucks/...\n",
            "Successfully fetched the page: https://starbucksmenuprices.com/how-much-is-a-pink-drink-at-starbucks/\n",
            "No 'Starbucks Prices Data' found for how-much-is-a-pink-drink-at-sb?. Skipping...\n",
            "Fetching data for how-much-is-a-pup-cup-at-sb? from https://starbucksmenuprices.com/how-much-is-a-pup-cup-at-starbucks/...\n",
            "Successfully fetched the page: https://starbucksmenuprices.com/how-much-is-a-pup-cup-at-starbucks/\n",
            "No 'Starbucks Prices Data' found for how-much-is-a-pup-cup-at-sb?. Skipping...\n",
            "Fetching data for how-much-is-a-frapp-at-sb-in-canada? from https://starbucksmenuprices.com/how-much-is-a-vanilla-bean-frappuccino-at-starbucks-in-canada/...\n",
            "Successfully fetched the page: https://starbucksmenuprices.com/how-much-is-a-vanilla-bean-frappuccino-at-starbucks-in-canada/\n",
            "No 'Starbucks Prices Data' found for how-much-is-a-frapp-at-sb-in-canada?. Skipping...\n",
            "Fetching data for how-much-is-a-frappuccino-at-sb? from https://starbucksmenuprices.com/how-much-is-a-vanilla-bean-frappuccino-at-starbucks/...\n",
            "Successfully fetched the page: https://starbucksmenuprices.com/how-much-is-a-vanilla-bean-frappuccino-at-starbucks/\n",
            "No 'Starbucks Prices Data' found for how-much-is-a-frappuccino-at-sb?. Skipping...\n",
            "Fetching data for how-much-is-a-venti-caramel-frapp? from https://starbucksmenuprices.com/how-much-is-a-venti-caramel-ribbon-crunch-frappuccino/...\n",
            "Successfully fetched the page: https://starbucksmenuprices.com/how-much-is-a-venti-caramel-ribbon-crunch-frappuccino/\n",
            "No 'Starbucks Prices Data' found for how-much-is-a-venti-caramel-frapp?. Skipping...\n",
            "Fetching data for how-much-is-an-iced-coffee-at-sb? from https://starbucksmenuprices.com/how-much-is-an-iced-coffee-at-starbucks/...\n",
            "Successfully fetched the page: https://starbucksmenuprices.com/how-much-is-an-iced-coffee-at-starbucks/\n",
            "No 'Starbucks Prices Data' found for how-much-is-an-iced-coffee-at-sb?. Skipping...\n",
            "Fetching data for facebook from https://www.facebook.com/Starbucks/...\n",
            "Successfully fetched the page: https://www.facebook.com/Starbucks/\n",
            "'Hot Coffee' section not found for facebook. Skipping...\n",
            "Fetching data for pinterest from https://www.pinterest.com/starbucks/...\n",
            "Successfully fetched the page: https://www.pinterest.com/starbucks/\n",
            "No 'Starbucks Prices Data' found for pinterest. Skipping...\n",
            "Fetching data for instagram from https://www.instagram.com/starbucks/...\n",
            "Successfully fetched the page: https://www.instagram.com/starbucks/\n",
            "'Hot Coffee' section not found for instagram. Skipping...\n",
            "Fetching data for youtube from https://www.youtube.com/starbucks...\n",
            "Successfully fetched the page: https://www.youtube.com/starbucks\n",
            "'Hot Coffee' section not found for youtube. Skipping...\n",
            "Fetching data for twitter from https://twitter.com/starbucks/...\n",
            "Successfully fetched the page: https://twitter.com/starbucks/\n",
            "'Hot Coffee' section not found for twitter. Skipping...\n",
            "Fetching data for spotify from https://open.spotify.com/user/starbucks...\n",
            "Successfully fetched the page: https://open.spotify.com/user/starbucks\n",
            "No 'Starbucks Prices Data' found for spotify. Skipping...\n"
          ]
        }
      ],
      "source": [
        "import pandas as pd\n",
        "import requests\n",
        "from bs4 import BeautifulSoup\n",
        "import os\n",
        "\n",
        "# Step 1: Load the Links\n",
        "links_file = 'starbucks_country_links.csv'  # File containing country links\n",
        "country_links = pd.read_csv(links_file)  # Read the CSV file into a DataFrame\n",
        "\n",
        "# Step 2: Filter Valid Links\n",
        "valid_links = country_links[~country_links['URL'].str.contains('#', na=False)]  # Remove invalid URLs containing '#'\n",
        "\n",
        "# Check if there are any valid links\n",
        "if valid_links.empty:\n",
        "    print(\"No valid links found in the file.\")\n",
        "    exit()\n",
        "\n",
        "# Step 3: Loop Over All Valid Links\n",
        "for index, row in valid_links.iterrows():\n",
        "    country_url = row['URL']  # Extract the URL\n",
        "    country_name = row['Country'].lower().replace(' ', '-')  # Format the country name for the file name\n",
        "\n",
        "    print(f\"Fetching data for {country_name} from {country_url}...\")\n",
        "\n",
        "    # Step 4: Fetch the Webpage Content\n",
        "    response = requests.get(country_url)\n",
        "    if response.status_code == 200:\n",
        "        print(f\"Successfully fetched the page: {country_url}\")\n",
        "    else:\n",
        "        print(f\"Failed to fetch webpage for {country_name}. Status code: {response.status_code}\")\n",
        "        continue  # Skip this country if the webpage request fails\n",
        "\n",
        "    # Step 5: Parse the HTML\n",
        "    soup = BeautifulSoup(response.text, 'html.parser')\n",
        "\n",
        "    # Step 6: Locate \"h2\" Section Containing Starbucks Prices\n",
        "    starbucks_prices_heading = soup.find('h2')  # Locate the \"h2\" section heading\n",
        "    if starbucks_prices_heading:\n",
        "        starbucks_prices_table = starbucks_prices_heading.find_parent('table')  # Find the parent table containing the data\n",
        "    else:\n",
        "        print(f\"'Hot Coffee' section not found for {country_name}. Skipping...\")\n",
        "        continue  # Skip to the next country if no relevant section is found\n",
        "\n",
        "    # Step 7: Extract Data\n",
        "    starbucks_prices_data = []  # List to store extracted data\n",
        "    if starbucks_prices_table:\n",
        "        rows = starbucks_prices_table.find_all('tr', class_='item')  # Find all rows with class \"item\"\n",
        "        for row in rows:\n",
        "            cols = row.find_all('td')  # Find all columns in the row\n",
        "            cols = [col.string.strip() if col.string else '' for col in cols]  # Clean the text and handle missing values\n",
        "            if cols:  # Skip empty rows\n",
        "                starbucks_prices_data.append(cols)\n",
        "\n",
        "    # Step 8: Save Data\n",
        "    if starbucks_prices_data:\n",
        "        df_starbucks_prices = pd.DataFrame(starbucks_prices_data, columns=['Item', 'Price'])  # Create a DataFrame\n",
        "        output_file = f'starbucks_prices_{country_name}.csv'  # Generate file name with country name\n",
        "        df_starbucks_prices.to_csv(output_file, index=False)  # Save to CSV\n",
        "        print(f\"Saved 'Starbucks Prices' prices to {output_file}\")\n",
        "    else:\n",
        "        print(f\"No 'Starbucks Prices Data' found for {country_name}. Skipping...\")"
      ]
    },
    {
      "cell_type": "markdown",
      "metadata": {},
      "source": [
        "# Consolidating Latte Prices from Country CSV Files"
      ]
    },
    {
      "cell_type": "markdown",
      "metadata": {},
      "source": [
        "## **Step 1: Import Libraries**\n",
        "*  **os** is used for interacting with the file system (e.g., listing files in a folder).\n",
        "*  **pandas** is used to read and manipulate CSV files."
      ]
    },
    {
      "cell_type": "code",
      "execution_count": 75,
      "metadata": {},
      "outputs": [],
      "source": [
        "import os\n",
        "import pandas as pd"
      ]
    },
    {
      "cell_type": "markdown",
      "metadata": {},
      "source": [
        "## **Step 2: Define Folder Path**\n",
        "*  Specify the folder where all the country-specific CSV files are located."
      ]
    },
    {
      "cell_type": "code",
      "execution_count": 76,
      "metadata": {},
      "outputs": [],
      "source": [
        "folder_path = './'  # Adjust to the directory where the files are stored"
      ]
    },
    {
      "cell_type": "markdown",
      "metadata": {},
      "source": [
        "## **Step 3: Initialize Data Storage**\n",
        "*  Create an empty list, **worldwide_latte_prices**, to store the results."
      ]
    },
    {
      "cell_type": "code",
      "execution_count": 77,
      "metadata": {},
      "outputs": [],
      "source": [
        "worldwide_latte_prices = []"
      ]
    },
    {
      "cell_type": "markdown",
      "metadata": {},
      "source": [
        "## **Step 4: Loop Through Files, Read Each File, and Search for \"Latte\":**\n",
        "*  Identify files that match the naming pattern: **starbucks_prices_[country].csv.**\n",
        "*  Extract the country name from the file name.\n",
        "*  Use **pandas** to load the CSV file into a DataFrame.\n",
        "* Iterate through the rows of the DataFrame to find an item containing \"latte\".\n",
        "*  Extract the corresponding price."
      ]
    },
    {
      "cell_type": "code",
      "execution_count": 78,
      "metadata": {},
      "outputs": [],
      "source": [
        "# Step 4: Loop through files in the folder\n",
        "for file_name in os.listdir(folder_path):\n",
        "    # Check if the file matches the pattern \"starbucks_prices_[country].csv\"\n",
        "    if file_name.startswith('starbucks_prices_') and file_name.endswith('.csv'):\n",
        "        # Extract the country name from the file name\n",
        "        country_name = file_name.replace('starbucks_prices_', '').replace('.csv', '').capitalize()\n",
        "        \n",
        "        # Load the CSV file into a DataFrame\n",
        "        file_path = os.path.join(folder_path, file_name)\n",
        "        df = pd.read_csv(file_path)\n",
        "        \n",
        "        # Step 5: Search for a row containing 'Latte'\n",
        "        for _, row in df.iterrows():\n",
        "            if 'latte' in row['Item'].lower():  # Case-insensitive search for \"latte\"\n",
        "                latte_price = row['Price']\n",
        "                # Append the country name and latte price to the list\n",
        "                worldwide_latte_prices.append({'Country': country_name, 'Latte Price': latte_price})\n",
        "                break  # Stop after finding the first matching \"latte\""
      ]
    },
    {
      "cell_type": "markdown",
      "metadata": {},
      "source": [
        "## **Step 7: Save the Data:**\n",
        "*  onsolidate the extracted data into a new CSV file named **worldwide_latte_prices.csv.**"
      ]
    },
    {
      "cell_type": "code",
      "execution_count": 79,
      "metadata": {},
      "outputs": [
        {
          "name": "stdout",
          "output_type": "stream",
          "text": [
            "Worldwide latte prices saved to worldwide_latte_prices.csv\n",
            "     Country Latte Price\n",
            "0  Australia       $6.88\n",
            "1     Brasil     R$16.86\n"
          ]
        }
      ],
      "source": [
        "# Save the consolidated data to a new CSV file\n",
        "output_file = 'worldwide_latte_prices.csv'\n",
        "df_worldwide = pd.DataFrame(worldwide_latte_prices)\n",
        "df_worldwide.to_csv(output_file, index=False)\n",
        "\n",
        "print(f\"Worldwide latte prices saved to {output_file}\")\n",
        "print(df_worldwide)"
      ]
    },
    {
      "cell_type": "markdown",
      "metadata": {},
      "source": [
        "## **Complete Script**"
      ]
    },
    {
      "cell_type": "code",
      "execution_count": 80,
      "metadata": {},
      "outputs": [
        {
          "name": "stdout",
          "output_type": "stream",
          "text": [
            "Worldwide latte prices saved to worldwide_latte_prices.csv\n",
            "     Country Latte Price\n",
            "0  Australia       $6.88\n",
            "1     Brasil     R$16.86\n"
          ]
        }
      ],
      "source": [
        "import os\n",
        "import pandas as pd\n",
        "\n",
        "# Step 1: Define the folder path containing the CSV files\n",
        "folder_path = './'  # Adjust to the directory where the files are stored\n",
        "\n",
        "# Step 2: Initialize a list to store latte prices data\n",
        "worldwide_latte_prices = []\n",
        "\n",
        "# Step 3: Loop through files in the folder\n",
        "for file_name in os.listdir(folder_path):\n",
        "    # Check if the file matches the pattern \"starbucks_prices_[country].csv\"\n",
        "    if file_name.startswith('starbucks_prices_') and file_name.endswith('.csv'):\n",
        "        # Extract the country name from the file name\n",
        "        country_name = file_name.replace('starbucks_prices_', '').replace('.csv', '').capitalize()\n",
        "        \n",
        "        # Load the CSV file into a DataFrame\n",
        "        file_path = os.path.join(folder_path, file_name)\n",
        "        df = pd.read_csv(file_path)\n",
        "        \n",
        "        # Step 4: Search for a row containing 'Latte'\n",
        "        for _, row in df.iterrows():\n",
        "            if 'latte' in row['Item'].lower():  # Case-insensitive search for \"latte\"\n",
        "                latte_price = row['Price']\n",
        "                # Append the country name and latte price to the list\n",
        "                worldwide_latte_prices.append({'Country': country_name, 'Latte Price': latte_price})\n",
        "                break  # Stop after finding the first matching \"latte\"\n",
        "\n",
        "# Step 5: Save the consolidated data to a new CSV file\n",
        "output_file = 'worldwide_latte_prices.csv'\n",
        "df_worldwide = pd.DataFrame(worldwide_latte_prices)\n",
        "df_worldwide.to_csv(output_file, index=False)\n",
        "\n",
        "print(f\"Worldwide latte prices saved to {output_file}\")\n",
        "print(df_worldwide)\n"
      ]
    },
    {
      "cell_type": "markdown",
      "metadata": {},
      "source": [
        "## Clean Country Name"
      ]
    },
    {
      "cell_type": "code",
      "execution_count": 24,
      "metadata": {},
      "outputs": [
        {
          "name": "stdout",
          "output_type": "stream",
          "text": [
            "✅ Standardized country names saved to latte_prices_standardized.csv\n"
          ]
        }
      ],
      "source": [
        "import pandas as pd\n",
        "import pycountry\n",
        "\n",
        "# Step 1: Load Data\n",
        "file_path = \"worldwide_latte_prices.csv\"  # Change this to your actual file name\n",
        "df = pd.read_csv(file_path)\n",
        "\n",
        "# Step 2: Function to Standardize Country Names\n",
        "def standardize_country_name(country):\n",
        "    try:\n",
        "        # Convert country name to lowercase and remove leading/trailing spaces\n",
        "        country = country.strip().lower()\n",
        "        \n",
        "        # Handle common non-standard names manually\n",
        "        country_corrections = {\n",
        "            \"czech-republic\": \"Czech Republic\",\n",
        "            \"south-africa\": \"South Africa\",\n",
        "            \"united-states\": \"United States\",\n",
        "            \"united-kingdom\": \"United Kingdom\",\n",
        "            \"méxico\": \"Mexico\",\n",
        "            \"brasil\": \"Brazil\",\n",
        "            \"italy\": \"Italy\",\n",
        "            \"hungary\": \"Hungary\",\n",
        "            \"finland\": \"Finland\",\n",
        "            \"colombia\": \"Colombia\",\n",
        "            \"canada\": \"Canada\",\n",
        "            \"poland\": \"Poland\",\n",
        "            \"australia\": \"Australia\",\n",
        "            \"chile\": \"Chile\"\n",
        "        }\n",
        "\n",
        "        # Check for manual corrections first\n",
        "        if country in country_corrections:\n",
        "            return country_corrections[country]\n",
        "\n",
        "        # Use pycountry to get standard country names\n",
        "        country_obj = pycountry.countries.lookup(country)\n",
        "        return country_obj.name  # Return the official English name\n",
        "\n",
        "    except LookupError:\n",
        "        return country  # If no match is found, return the original name\n",
        "\n",
        "# Step 3: Apply the function to the \"Country\" column\n",
        "df[\"Country\"] = df[\"Country\"].apply(standardize_country_name)\n",
        "\n",
        "# Step 4: Remove Duplicates (if any)\n",
        "df = df.drop_duplicates()\n",
        "\n",
        "# Step 5: Save the cleaned file\n",
        "output_file = \"latte_prices_standardized.csv\"\n",
        "df.to_csv(output_file, index=False)\n",
        "\n",
        "print(f\"✅ Standardized country names saved to {output_file}\")"
      ]
    },
    {
      "cell_type": "markdown",
      "metadata": {},
      "source": [
        "# Fetch Exchange Rates for Each Country"
      ]
    },
    {
      "cell_type": "markdown",
      "metadata": {},
      "source": [
        "## **Step 1: Import Libraries:**"
      ]
    },
    {
      "cell_type": "code",
      "execution_count": 74,
      "metadata": {},
      "outputs": [],
      "source": [
        "# Import necessary libraries\n",
        "import pandas as pd\n",
        "from selenium import webdriver\n",
        "from selenium.webdriver.common.by import By\n",
        "from selenium.webdriver.common.keys import Keys\n",
        "import time"
      ]
    },
    {
      "cell_type": "markdown",
      "metadata": {},
      "source": [
        "## **Step 2: Load Latte Prices Data:**\n",
        "*  Read the CSV file **worldwide_latte_prices.csv** created by the first script."
      ]
    },
    {
      "cell_type": "code",
      "execution_count": 75,
      "metadata": {},
      "outputs": [],
      "source": [
        "# Load country data from the CSV file\n",
        "csv_file = 'latte_prices_standardized.csv'  # Replace with your CSV file name\n",
        "countries = pd.read_csv(csv_file)"
      ]
    },
    {
      "cell_type": "markdown",
      "metadata": {},
      "source": [
        "## **Step 3: Set Up Selenium:**\n",
        "*  Initialize the Selenium WebDriver for automated web browsing."
      ]
    },
    {
      "cell_type": "code",
      "execution_count": 76,
      "metadata": {},
      "outputs": [],
      "source": [
        "# Set up Selenium WebDriver\n",
        "driver = webdriver.Chrome()  # Ensure ChromeDriver is properly set up"
      ]
    },
    {
      "cell_type": "markdown",
      "metadata": {},
      "source": [
        "## **Step 4: Define Exchange Rate Function:**\n",
        "*  Create a function to search for exchange rates on DuckDuckGo.\n",
        "*  Open DuckDuckGo, enter the search query, and retrieve the exchange rate."
      ]
    },
    {
      "cell_type": "code",
      "execution_count": 80,
      "metadata": {},
      "outputs": [],
      "source": [
        "# Function to get exchange rate from DuckDuckGo\n",
        "def get_exchange_rate_from_duckduckgo(country_name):\n",
        "    try:\n",
        "        # Open DuckDuckGo\n",
        "        driver.get(\"https://duckduckgo.com/\")\n",
        "\n",
        "        # Locate and enter search query in search box\n",
        "        search_box = driver.find_element(By.NAME, \"q\")\n",
        "        search_box.clear()\n",
        "        search_box.send_keys(f\"1 USD to {country_name} exchange rate\")\n",
        "        search_box.send_keys(Keys.RETURN)\n",
        "\n",
        "        # Wait for results to load\n",
        "        time.sleep(3)\n",
        "\n",
        "        # Locate dynamic exchange rate result\n",
        "        rate_elements = driver.find_elements(By.CSS_SELECTOR, 'input[aria-label*=\"Currency\"]')\n",
        "\n",
        "        # If exchange rate input exists, extract value\n",
        "        if rate_elements:\n",
        "            exchange_rate = rate_elements[-1].get_attribute(\"value\")  # Extract last input field\n",
        "            return exchange_rate\n",
        "        else:\n",
        "            print(f\"No exchange rate found for {country_name}\")\n",
        "            return None\n",
        "\n",
        "    except Exception as e:\n",
        "        print(f\"Error fetching exchange rate for {country_name}: {e}\")\n",
        "        return None"
      ]
    },
    {
      "cell_type": "markdown",
      "metadata": {},
      "source": [
        "## **Step 5: Loop Through Countries:**\n",
        "*  For each country in the CSV, fetch the exchange rate using the defined function."
      ]
    },
    {
      "cell_type": "code",
      "execution_count": 81,
      "metadata": {},
      "outputs": [
        {
          "name": "stdout",
          "output_type": "stream",
          "text": [
            "Fetching exchange rate for Italy...\n",
            "Fetching exchange rate for Czech Republic...\n",
            "Fetching exchange rate for Chile...\n",
            "Fetching exchange rate for Mexico...\n",
            "Fetching exchange rate for Hungary...\n",
            "Fetching exchange rate for South Africa...\n",
            "Fetching exchange rate for Poland...\n",
            "Fetching exchange rate for Australia...\n",
            "Fetching exchange rate for United States...\n",
            "No exchange rate found for United States\n",
            "Fetching exchange rate for Brazil...\n",
            "Fetching exchange rate for Finland...\n",
            "Fetching exchange rate for Colombia...\n",
            "Fetching exchange rate for Canada...\n",
            "Fetching exchange rate for United Kingdom...\n",
            "Fetching exchange rate for China...\n"
          ]
        }
      ],
      "source": [
        "# Loop through each country and fetch exchange rates\n",
        "exchange_rates = []\n",
        "for _, row in countries.iterrows():\n",
        "    country_name = row['Country']\n",
        "    print(f\"Fetching exchange rate for {country_name}...\")\n",
        "    rate = get_exchange_rate_from_duckduckgo(country_name)\n",
        "    exchange_rates.append({'Country': country_name, 'Exchange Rate': rate})"
      ]
    },
    {
      "cell_type": "markdown",
      "metadata": {},
      "source": [
        "## **Step 6: Save the Exchange Rates:**\n",
        "*  Store the results in a new CSV file named **exchange_rates_duckduckgo.csv.**"
      ]
    },
    {
      "cell_type": "code",
      "execution_count": 82,
      "metadata": {},
      "outputs": [
        {
          "name": "stdout",
          "output_type": "stream",
          "text": [
            "Saved exchange rates to exchange_rates_duckduckgo.csv\n"
          ]
        }
      ],
      "source": [
        "# Step 4: Save the results to a new CSV file\n",
        "df_exchange_rates = pd.DataFrame(exchange_rates)\n",
        "output_file = 'exchange_rates_duckduckgo.csv'\n",
        "df_exchange_rates.to_csv(output_file, index=False)\n",
        "print(f\"Saved exchange rates to {output_file}\")"
      ]
    },
    {
      "cell_type": "markdown",
      "metadata": {},
      "source": [
        "## **Step 7: Close Selenium:**\n",
        "*  Shut down the WebDriver after completing the scraping task."
      ]
    },
    {
      "cell_type": "code",
      "execution_count": 83,
      "metadata": {},
      "outputs": [],
      "source": [
        "# Close the Selenium WebDriver\n",
        "driver.quit()"
      ]
    },
    {
      "cell_type": "markdown",
      "metadata": {},
      "source": [
        "## **Complete Script**"
      ]
    },
    {
      "cell_type": "code",
      "execution_count": null,
      "metadata": {},
      "outputs": [
        {
          "name": "stdout",
          "output_type": "stream",
          "text": [
            "Fetching exchange rate for Italy...\n",
            "Fetching exchange rate for Czech Republic...\n",
            "Fetching exchange rate for Chile...\n",
            "Fetching exchange rate for Mexico...\n",
            "Fetching exchange rate for Hungary...\n",
            "Fetching exchange rate for South Africa...\n",
            "Fetching exchange rate for Poland...\n",
            "Fetching exchange rate for Australia...\n",
            "Fetching exchange rate for United States...\n",
            "❌ No exchange rate found for United States\n",
            "Fetching exchange rate for Brazil...\n",
            "Fetching exchange rate for Finland...\n",
            "Fetching exchange rate for Colombia...\n",
            "Fetching exchange rate for Canada...\n",
            "Fetching exchange rate for United Kingdom...\n",
            "✅ Exchange rates saved to exchange_rates_duckduckgo.csv\n"
          ]
        }
      ],
      "source": [
        "import pandas as pd\n",
        "from selenium import webdriver\n",
        "from selenium.webdriver.common.by import By\n",
        "from selenium.webdriver.common.keys import Keys\n",
        "import time\n",
        "\n",
        "# Step 1: Load country data\n",
        "csv_file = 'latte_prices_standardized.csv'  # Ensure the correct file name\n",
        "countries = pd.read_csv(csv_file)\n",
        "\n",
        "# Set up Selenium WebDriver\n",
        "driver = webdriver.Chrome()  # Ensure you have ChromeDriver installed\n",
        "\n",
        "# Function to get exchange rate from DuckDuckGo\n",
        "def get_exchange_rate_from_duckduckgo(country_name):\n",
        "    try:\n",
        "        # Open DuckDuckGo\n",
        "        driver.get(\"https://duckduckgo.com/\")\n",
        "\n",
        "        # Locate and enter search query in search box\n",
        "        search_box = driver.find_element(By.NAME, \"q\")\n",
        "        search_box.clear()\n",
        "        search_box.send_keys(f\"1 USD to {country_name} exchange rate\")\n",
        "        search_box.send_keys(Keys.RETURN)\n",
        "\n",
        "        # Wait for results to load\n",
        "        time.sleep(3)\n",
        "\n",
        "        # Locate dynamic exchange rate result\n",
        "        rate_elements = driver.find_elements(By.CSS_SELECTOR, 'input[aria-label*=\"Currency\"]')\n",
        "\n",
        "        # If exchange rate input exists, extract value\n",
        "        if rate_elements:\n",
        "            exchange_rate = rate_elements[-1].get_attribute(\"value\")  # Extract last input field\n",
        "            return exchange_rate\n",
        "        else:\n",
        "            print(f\"No exchange rate found for {country_name}\")\n",
        "            return None\n",
        "\n",
        "    except Exception as e:\n",
        "        print(f\"Error fetching exchange rate for {country_name}: {e}\")\n",
        "        return None\n",
        "\n",
        "# Loop through each country and fetch exchange rates\n",
        "exchange_rates = []\n",
        "for _, row in countries.iterrows():\n",
        "    country_name = row['Country']\n",
        "    print(f\"Fetching exchange rate for {country_name}...\")\n",
        "    rate = get_exchange_rate_from_duckduckgo(country_name)\n",
        "    exchange_rates.append({'Country': country_name, 'Exchange Rate': rate})\n",
        "\n",
        "# Save results to CSV\n",
        "df_exchange_rates = pd.DataFrame(exchange_rates)\n",
        "output_file = 'exchange_rates_duckduckgo.csv'\n",
        "df_exchange_rates.to_csv(output_file, index=False)\n",
        "print(f\"Exchange rates saved to {output_file}\")\n",
        "\n",
        "# Close Selenium WebDriver\n",
        "driver.quit()"
      ]
    },
    {
      "cell_type": "markdown",
      "metadata": {},
      "source": [
        "# Starbucks Index"
      ]
    },
    {
      "cell_type": "code",
      "execution_count": 119,
      "metadata": {},
      "outputs": [
        {
          "name": "stdout",
          "output_type": "stream",
          "text": [
            "⚠️ Missing Exchange Rates for:\n",
            "          Country\n",
            "14  united states\n",
            "           Country  Latte Price  Exchange Rate  PPP Exchange Rate (USD)  \\\n",
            "0        australia         6.88           1.59                 1.470085   \n",
            "1           brazil        16.86           5.75                 3.602564   \n",
            "2           canada         4.88           1.43                 1.042735   \n",
            "3            chile     11684.62         962.59              2496.713675   \n",
            "4            china        26.00           7.29                 5.555556   \n",
            "5         colombia     14062.50        4140.51              3004.807692   \n",
            "6   czech republic       165.00          24.14                35.256410   \n",
            "7          finland         6.20           0.96                 1.324786   \n",
            "8          hungary      2190.00         389.51               467.948718   \n",
            "9            italy         1.50           0.96                 0.320513   \n",
            "10          mexico        92.41          20.44                19.745726   \n",
            "11          poland        10.90           4.03                 2.329060   \n",
            "12    south africa        48.00          18.43                10.256410   \n",
            "13  united kingdom         3.36           0.80                 0.717949   \n",
            "14   united states         4.68           1.00                 1.000000   \n",
            "\n",
            "   Currency Valuation  \n",
            "0         Undervalued  \n",
            "1         Undervalued  \n",
            "2         Undervalued  \n",
            "3          Overvalued  \n",
            "4         Undervalued  \n",
            "5         Undervalued  \n",
            "6          Overvalued  \n",
            "7          Overvalued  \n",
            "8          Overvalued  \n",
            "9         Undervalued  \n",
            "10        Undervalued  \n",
            "11        Undervalued  \n",
            "12        Undervalued  \n",
            "13        Undervalued  \n",
            "14            Neutral  \n",
            "✅ Starbucks Index saved to starbucks_index.csv\n"
          ]
        }
      ],
      "source": [
        "import pandas as pd\n",
        "import re\n",
        "\n",
        "# Step 1: Load CSV Files\n",
        "exchange_rates_file = 'exchange_rates_duckduckgo.csv'  # Market exchange rates\n",
        "latte_prices_file = 'latte_prices_standardized.csv'      # Starbucks latte prices\n",
        "\n",
        "df_exchange = pd.read_csv(exchange_rates_file)  # Read exchange rate data\n",
        "df_latte = pd.read_csv(latte_prices_file)       # Read Starbucks prices data\n",
        "\n",
        "# Step 2: Standardize Country Names (Lowercase, Strip Spaces)\n",
        "df_latte['Country'] = df_latte['Country'].str.strip().str.lower()\n",
        "df_exchange['Country'] = df_exchange['Country'].str.strip().str.lower()\n",
        "\n",
        "# Step 3: Clean Latte Prices (Remove Currency Symbols and Convert to Float)\n",
        "def clean_price(price):\n",
        "    if isinstance(price, str):\n",
        "        price = re.sub(r'[^\\d.]', '', price)  # Keep only numbers and decimal point\n",
        "    try:\n",
        "        return float(price)\n",
        "    except ValueError:\n",
        "        return None  # Handle cases where conversion fails\n",
        "\n",
        "df_latte['Latte Price'] = df_latte['Latte Price'].apply(clean_price)\n",
        "df_exchange['Exchange Rate'] = df_exchange['Exchange Rate'].apply(clean_price)\n",
        "\n",
        "# Step 4: Set USA Default Values if Missing\n",
        "usa_latte_price = df_latte[df_latte['Country'] == 'united-states']['Latte Price']\n",
        "usa_latte_price = usa_latte_price.values[0] if not usa_latte_price.empty else 4.68  # Default Latte Price\n",
        "\n",
        "# Ensure USA exchange rate is 1.0\n",
        "df_exchange.loc[df_exchange['Country'] == 'united-states', 'Exchange Rate'] = 1.0\n",
        "\n",
        "# Step 5: Perform an OUTER Merge to Ensure No Countries Are Dropped\n",
        "df_combined = pd.merge(df_latte, df_exchange, on='Country', how='outer')\n",
        "\n",
        "# Step 6: Identify Missing Data\n",
        "missing_prices = df_combined[df_combined['Latte Price'].isna()]\n",
        "missing_rates = df_combined[df_combined['Exchange Rate'].isna()]\n",
        "\n",
        "if not missing_prices.empty:\n",
        "    print(\"⚠️ Missing Latte Prices for:\")\n",
        "    print(missing_prices[['Country']])\n",
        "\n",
        "if not missing_rates.empty:\n",
        "    print(\"⚠️ Missing Exchange Rates for:\")\n",
        "    print(missing_rates[['Country']])\n",
        "\n",
        "# Step 7: Fill Missing Exchange Rates with Placeholder (-1 for Debugging)\n",
        "df_combined['Exchange Rate'] = df_combined['Exchange Rate'].fillna(1)\n",
        "\n",
        "# Step 8: Drop Countries Where Latte Price Is Missing\n",
        "df_combined = df_combined.dropna(subset=['Latte Price'])\n",
        "\n",
        "# Step 9: Calculate Starbucks Index (PPP Exchange Rate)\n",
        "df_combined['PPP Exchange Rate (USD)'] = df_combined['Latte Price'] / usa_latte_price\n",
        "\n",
        "# Step 10: Compare with Market Exchange Rate\n",
        "def evaluate_currency(row):\n",
        "    if row[\"Exchange Rate\"] == -1:  # Missing data case\n",
        "        return \"Missing Exchange Rate\"\n",
        "    elif row[\"PPP Exchange Rate (USD)\"] < row[\"Exchange Rate\"]:\n",
        "        return \"Undervalued\"\n",
        "    elif row[\"PPP Exchange Rate (USD)\"] > row[\"Exchange Rate\"]:\n",
        "        return \"Overvalued\"\n",
        "    else:\n",
        "        return \"Neutral\"\n",
        "\n",
        "df_combined['Currency Valuation'] = df_combined.apply(evaluate_currency, axis=1)\n",
        "\n",
        "# Step 11: Remove Duplicates\n",
        "df_combined = df_combined.drop_duplicates()\n",
        "\n",
        "# Step 12: Save the Final Starbucks Index File\n",
        "output_file = 'starbucks_index.csv'\n",
        "df_combined.to_csv(output_file, index=False)\n",
        "\n",
        "# Step 13: Print Final DataFrame\n",
        "print(df_combined)\n",
        "print(f\"✅ Starbucks Index saved to {output_file}\")"
      ]
    },
    {
      "cell_type": "code",
      "execution_count": 120,
      "metadata": {},
      "outputs": [
        {
          "name": "stdout",
          "output_type": "stream",
          "text": [
            "Successfully downloaded big-mac-full-index.csv\n",
            "Comparison saved to starbucks_vs_bigmac.csv\n"
          ]
        }
      ],
      "source": [
        "import pandas as pd\n",
        "import requests\n",
        "\n",
        "# Step 1: Download the Big Mac Index Data (CSV format)\n",
        "big_mac_url = \"https://raw.githubusercontent.com/TheEconomist/big-mac-data/master/output-data/big-mac-full-index.csv\"\n",
        "big_mac_file = \"big-mac-full-index.csv\"\n",
        "\n",
        "response = requests.get(big_mac_url)\n",
        "if response.status_code == 200:\n",
        "    with open(big_mac_file, 'wb') as file:\n",
        "        file.write(response.content)\n",
        "    print(f\"Successfully downloaded {big_mac_file}\")\n",
        "else:\n",
        "    print(\"Failed to download Big Mac data.\")\n",
        "    exit()\n",
        "\n",
        "# Step 2: Load Starbucks Index Data\n",
        "starbucks_file = \"starbucks_index.csv\"  # Ensure this file exists in the root folder\n",
        "df_starbucks = pd.read_csv(starbucks_file)\n",
        "\n",
        "# Step 3: Load Big Mac Index Data\n",
        "df_big_mac = pd.read_csv(big_mac_file)\n",
        "\n",
        "# Step 4: Standardize Country Names for Merging\n",
        "df_starbucks['Country'] = df_starbucks['Country'].str.lower().str.strip()\n",
        "df_big_mac['name'] = df_big_mac['name'].str.lower().str.strip()\n",
        "\n",
        "# Step 5: Remove duplicates in both datasets\n",
        "df_starbucks = df_starbucks.drop_duplicates(subset=['Country'])\n",
        "df_big_mac = df_big_mac.drop_duplicates(subset=['name'])\n",
        "\n",
        "# Step 6: Convert relevant columns to numeric values (removing currency symbols)\n",
        "df_starbucks['PPP Exchange Rate (USD)'] = pd.to_numeric(df_starbucks['PPP Exchange Rate (USD)'], errors='coerce')\n",
        "df_big_mac['dollar_price'] = pd.to_numeric(df_big_mac['dollar_price'], errors='coerce')\n",
        "\n",
        "# Step 7: Merge on Country Name\n",
        "df_merged = pd.merge(df_starbucks, df_big_mac[['name', 'dollar_price']], left_on='Country', right_on='name', how='inner')\n",
        "\n",
        "# Step 8: Compare Starbucks PPP with Big Mac PPP\n",
        "df_merged['Higher PPP'] = df_merged.apply(\n",
        "    lambda row: 'Starbucks' if row['PPP Exchange Rate (USD)'] > row['dollar_price'] else 'Big Mac', axis=1\n",
        ")\n",
        "\n",
        "# Step 9: Remove the extra 'name' column after merging\n",
        "df_merged = df_merged.drop(columns=['name'])\n",
        "\n",
        "# Step 10: Save and Display the Results\n",
        "output_file = \"starbucks_vs_bigmac.csv\"\n",
        "df_merged.to_csv(output_file, index=False)\n",
        "\n",
        "print(f\"Comparison saved to {output_file}\")"
      ]
    },
    {
      "cell_type": "code",
      "execution_count": 121,
      "metadata": {},
      "outputs": [
        {
          "data": {
            "image/png": "[encoded data removed]",
            "text/plain": [
              "<Figure size 1400x1000 with 1 Axes>"
            ]
          },
          "metadata": {},
          "output_type": "display_data"
        }
      ],
      "source": [
        "import pandas as pd\n",
        "import matplotlib.pyplot as plt\n",
        "\n",
        "# Step 1: Load the Starbucks Index Data\n",
        "file_path = \"starbucks_index.csv\"\n",
        "df = pd.read_csv(file_path)\n",
        "\n",
        "# Step 2: Convert columns to numeric (force errors to NaN)\n",
        "df[\"PPP Exchange Rate (USD)\"] = pd.to_numeric(df[\"PPP Exchange Rate (USD)\"], errors=\"coerce\")\n",
        "df[\"Exchange Rate\"] = pd.to_numeric(df[\"Exchange Rate\"], errors=\"coerce\")\n",
        "\n",
        "# Step 3: Fix Currency Valuation Calculation (Corrected Logic)\n",
        "df[\"Valuation %\"] = ((df[\"PPP Exchange Rate (USD)\"] - df[\"Exchange Rate\"]) / df[\"Exchange Rate\"]) * 100\n",
        "\n",
        "# Step 4: **Fix Overvalued vs. Undervalued Logic**\n",
        "def classify_currency(row):\n",
        "    if row[\"PPP Exchange Rate (USD)\"] < row[\"Exchange Rate\"]:\n",
        "        return \"Undervalued\"  # Currency is **cheaper** than expected\n",
        "    elif row[\"PPP Exchange Rate (USD)\"] > row[\"Exchange Rate\"]:\n",
        "        return \"Overvalued\"  # Currency is **more expensive** than expected\n",
        "    else:\n",
        "        return \"Neutral\"\n",
        "\n",
        "df[\"Currency Valuation\"] = df.apply(classify_currency, axis=1)\n",
        "\n",
        "# Step 5: Sort for Better Visualization\n",
        "df_sorted = df.sort_values(by=\"Valuation %\", ascending=True)\n",
        "\n",
        "# Step 6: Define Colors for Visualization\n",
        "df_sorted[\"Color\"] = df_sorted[\"Currency Valuation\"].apply(lambda x: \"red\" if x == \"Undervalued\" else \"blue\")\n",
        "\n",
        "# Step 7: Create Scatter Plot\n",
        "fig, ax = plt.subplots(figsize=(14, 10))\n",
        "scatter = ax.scatter(df_sorted[\"Valuation %\"], range(len(df_sorted)), \n",
        "           c=df_sorted[\"Color\"], alpha=0.8, edgecolors=\"black\", linewidths=1, s=100, label=\"Currency Valuation\")\n",
        "\n",
        "# Step 8: Adjust Y-axis Labels to Display All Country Names\n",
        "ax.set_yticks(range(len(df_sorted)))\n",
        "ax.set_yticklabels(df_sorted[\"Country\"], fontsize=12, ha=\"right\")\n",
        "\n",
        "# Step 9: Add Country Annotations Next to Each Point\n",
        "for i, txt in enumerate(df_sorted[\"Country\"]):\n",
        "    ax.annotate(txt, (df_sorted[\"Valuation %\"].iloc[i], i), \n",
        "                textcoords=\"offset points\", xytext=(5, 0), ha=\"left\", fontsize=10)\n",
        "\n",
        "# Step 10: Add Vertical Line for Neutral Valuation (0%)\n",
        "ax.axvline(x=0, color=\"black\", linestyle=\"--\", linewidth=1.5, label=\"Fair Value\")\n",
        "\n",
        "# Step 11: Add a Legend\n",
        "handles = [plt.Line2D([0], [0], marker='o', color='w', label='Overvalued', markerfacecolor='blue', markersize=10),\n",
        "           plt.Line2D([0], [0], marker='o', color='w', label='Undervalued', markerfacecolor='red', markersize=10),\n",
        "           plt.Line2D([0], [0], color=\"black\", linestyle=\"--\", linewidth=1.5, label=\"Fair Value\")]\n",
        "\n",
        "ax.legend(handles=handles, loc=\"upper left\", fontsize=12)\n",
        "\n",
        "# Step 12: Format Chart\n",
        "ax.set_xlabel(\"% Over/Under Valued\", fontsize=14)\n",
        "ax.set_ylabel(\"Currencies\", fontsize=14)\n",
        "ax.set_title(\"Starbucks Index: Corrected Currency Over/Undervaluation\", fontsize=16)\n",
        "\n",
        "# Step 13: Show the Graph\n",
        "plt.tight_layout()\n",
        "plt.show()"
      ]
    },
    {
      "cell_type": "code",
      "execution_count": 122,
      "metadata": {},
      "outputs": [
        {
          "data": {
            "image/png": "[encoded data removed]",
            "text/plain": [
              "<Figure size 1400x1000 with 1 Axes>"
            ]
          },
          "metadata": {},
          "output_type": "display_data"
        }
      ],
      "source": [
        "import pandas as pd\n",
        "import matplotlib.pyplot as plt\n",
        "\n",
        "# Step 1: Load the Starbucks Index Data\n",
        "file_path = \"starbucks_index.csv\"\n",
        "df = pd.read_csv(file_path)\n",
        "\n",
        "# Step 2: Convert columns to numeric (force errors to NaN)\n",
        "df[\"PPP Exchange Rate (USD)\"] = pd.to_numeric(df[\"PPP Exchange Rate (USD)\"], errors=\"coerce\")\n",
        "df[\"Exchange Rate\"] = pd.to_numeric(df[\"Exchange Rate\"], errors=\"coerce\")\n",
        "\n",
        "# Step 3: Fix Currency Valuation Calculation (Corrected Logic)\n",
        "df[\"Valuation %\"] = ((df[\"PPP Exchange Rate (USD)\"] - df[\"Exchange Rate\"]) / df[\"Exchange Rate\"]) * 100\n",
        "\n",
        "# Step 4: **Fix Overvalued vs. Undervalued Logic**\n",
        "def classify_currency(row):\n",
        "    if row[\"PPP Exchange Rate (USD)\"] < row[\"Exchange Rate\"]:\n",
        "        return \"Undervalued\"  # Currency is **cheaper** than expected\n",
        "    elif row[\"PPP Exchange Rate (USD)\"] > row[\"Exchange Rate\"]:\n",
        "        return \"Overvalued\"  # Currency is **more expensive** than expected\n",
        "    else:\n",
        "        return \"Neutral\"\n",
        "\n",
        "df[\"Currency Valuation\"] = df.apply(classify_currency, axis=1)\n",
        "\n",
        "# Step 5: Sort for Better Visualization\n",
        "df_sorted = df.sort_values(by=\"Valuation %\", ascending=True)\n",
        "\n",
        "# Step 6: Define Colors for Visualization\n",
        "df_sorted[\"Color\"] = df_sorted[\"Currency Valuation\"].apply(lambda x: \"blue\" if x == \"Undervalued\" else \"red\")\n",
        "\n",
        "# Step 7: Create Scatter Plot\n",
        "fig, ax = plt.subplots(figsize=(14, 10))\n",
        "scatter = ax.scatter(df_sorted[\"Valuation %\"], range(len(df_sorted)), \n",
        "           c=df_sorted[\"Color\"], alpha=0.8, edgecolors=\"black\", linewidths=1, s=100, label=\"Currency Valuation\")\n",
        "\n",
        "# Step 8: Adjust Y-axis Labels to Display All Country Names\n",
        "ax.set_yticks(range(len(df_sorted)))\n",
        "ax.set_yticklabels(df_sorted[\"Country\"], fontsize=12, ha=\"right\")\n",
        "\n",
        "# Step 9: Add Country Annotations with **Percentage Values**\n",
        "for i, txt in enumerate(df_sorted[\"Country\"]):\n",
        "    percentage = round(df_sorted[\"Valuation %\"].iloc[i], 1)  # Round percentage to 1 decimal place\n",
        "    ax.annotate(f\"{txt} ({percentage}%)\", \n",
        "                (df_sorted[\"Valuation %\"].iloc[i], i), \n",
        "                textcoords=\"offset points\", xytext=(5, 0), ha=\"left\", fontsize=10)\n",
        "\n",
        "# Step 10: Add Vertical Line for Neutral Valuation (0%)\n",
        "ax.axvline(x=0, color=\"black\", linestyle=\"--\", linewidth=1.5, label=\"Fair Value\")\n",
        "\n",
        "# Step 11: Add a Legend\n",
        "handles = [plt.Line2D([0], [0], marker='o', color='w', label='Overvalued', markerfacecolor='red', markersize=10),\n",
        "           plt.Line2D([0], [0], marker='o', color='w', label='Undervalued', markerfacecolor='blue', markersize=10),\n",
        "           plt.Line2D([0], [0], color=\"black\", linestyle=\"--\", linewidth=1.5, label=\"Fair Value\")]\n",
        "\n",
        "ax.legend(handles=handles, loc=\"upper left\", fontsize=12)\n",
        "\n",
        "# Step 12: Format Chart\n",
        "ax.set_xlabel(\"% Over/Under Valued\", fontsize=14)\n",
        "ax.set_ylabel(\"Currencies\", fontsize=14)\n",
        "ax.set_title(\"Starbucks Index: Corrected Currency Over/Undervaluation\", fontsize=16)\n",
        "\n",
        "# Step 13: Show the Graph\n",
        "plt.tight_layout()\n",
        "plt.show()"
      ]
    },
    {
      "cell_type": "code",
      "execution_count": null,
      "metadata": {},
      "outputs": [],
      "source": []
    }
  ],
  "metadata": {
    "colab": {
      "collapsed_sections": [
        "56tfDxbWVq9b"
      ],
      "provenance": []
    },
    "kernelspec": {
      "display_name": "Python 3",
      "name": "python3"
    },
    "language_info": {
      "codemirror_mode": {
        "name": "ipython",
        "version": 3
      },
      "file_extension": ".py",
      "mimetype": "text/x-python",
      "name": "python",
      "nbconvert_exporter": "python",
      "pygments_lexer": "ipython3",
      "version": "3.13.1"
    }
  },
  "nbformat": 4,
  "nbformat_minor": 0
}
