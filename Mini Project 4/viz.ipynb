{
 "cells": [
  {
   "cell_type": "code",
   "execution_count": 3,
   "metadata": {},
   "outputs": [
    {
     "ename": "KeyError",
     "evalue": "'Results'",
     "output_type": "error",
     "traceback": [
      "\u001b[0;31m---------------------------------------------------------------------------\u001b[0m",
      "\u001b[0;31mKeyError\u001b[0m                                  Traceback (most recent call last)",
      "Cell \u001b[0;32mIn[3], line 71\u001b[0m\n\u001b[1;32m     69\u001b[0m \u001b[38;5;66;03m# Extract Unemployment Data\u001b[39;00m\n\u001b[1;32m     70\u001b[0m unemployment_records \u001b[38;5;241m=\u001b[39m []\n\u001b[0;32m---> 71\u001b[0m \u001b[38;5;28;01mfor\u001b[39;00m item \u001b[38;5;129;01min\u001b[39;00m \u001b[43munemployment_data\u001b[49m\u001b[43m[\u001b[49m\u001b[38;5;124;43m\"\u001b[39;49m\u001b[38;5;124;43mBEAAPI\u001b[39;49m\u001b[38;5;124;43m\"\u001b[39;49m\u001b[43m]\u001b[49m\u001b[43m[\u001b[49m\u001b[38;5;124;43m\"\u001b[39;49m\u001b[38;5;124;43mResults\u001b[39;49m\u001b[38;5;124;43m\"\u001b[39;49m\u001b[43m]\u001b[49m[\u001b[38;5;124m\"\u001b[39m\u001b[38;5;124mData\u001b[39m\u001b[38;5;124m\"\u001b[39m]:\n\u001b[1;32m     72\u001b[0m     \u001b[38;5;28;01mif\u001b[39;00m item[\u001b[38;5;124m\"\u001b[39m\u001b[38;5;124mLineNumber\u001b[39m\u001b[38;5;124m\"\u001b[39m] \u001b[38;5;241m==\u001b[39m \u001b[38;5;124m\"\u001b[39m\u001b[38;5;124m1\u001b[39m\u001b[38;5;124m\"\u001b[39m:\n\u001b[1;32m     73\u001b[0m         unemployment_records\u001b[38;5;241m.\u001b[39mappend({\u001b[38;5;124m\"\u001b[39m\u001b[38;5;124mYear\u001b[39m\u001b[38;5;124m\"\u001b[39m: \u001b[38;5;28mint\u001b[39m(item[\u001b[38;5;124m\"\u001b[39m\u001b[38;5;124mTimePeriod\u001b[39m\u001b[38;5;124m\"\u001b[39m]), \u001b[38;5;124m\"\u001b[39m\u001b[38;5;124mUnemployment Rate\u001b[39m\u001b[38;5;124m\"\u001b[39m: \u001b[38;5;28mfloat\u001b[39m(item[\u001b[38;5;124m\"\u001b[39m\u001b[38;5;124mDataValue\u001b[39m\u001b[38;5;124m\"\u001b[39m]\u001b[38;5;241m.\u001b[39mreplace(\u001b[38;5;124m\"\u001b[39m\u001b[38;5;124m,\u001b[39m\u001b[38;5;124m\"\u001b[39m, \u001b[38;5;124m\"\u001b[39m\u001b[38;5;124m\"\u001b[39m))})\n",
      "\u001b[0;31mKeyError\u001b[0m: 'Results'"
     ]
    }
   ],
   "source": [
    "# Re-import necessary libraries since execution state was reset\n",
    "import requests\n",
    "import pandas as pd\n",
    "import matplotlib.pyplot as plt\n",
    "import seaborn as sns\n",
    "\n",
    "# BEA API Key\n",
    "API_KEY = \"AF24D2AB-0062-43E0-A879-E47F0BAACE62\"\n",
    "\n",
    "# BEA API URL\n",
    "BEA_URL = \"https://apps.bea.gov/api/data\"\n",
    "\n",
    "# Parameters for Real GDP (RGDP) in Chained Dollars (Table 1.1.6)\n",
    "rgdp_params = {\n",
    "    \"UserID\": API_KEY,\n",
    "    \"method\": \"GetData\",\n",
    "    \"datasetname\": \"NIPA\",\n",
    "    \"TableName\": \"T10106\",  # Table 1.1.6 for Real GDP (Chained Dollars)\n",
    "    \"Frequency\": \"A\",  # Annual Data\n",
    "    \"Year\": \"ALL\",  # Fetch all available years\n",
    "    \"ResultFormat\": \"json\"\n",
    "}\n",
    "\n",
    "# Parameters for GDP Deflator (Table 1.1.9)\n",
    "gdp_deflator_params = {\n",
    "    \"UserID\": API_KEY,\n",
    "    \"method\": \"GetData\",\n",
    "    \"datasetname\": \"NIPA\",\n",
    "    \"TableName\": \"T10109\",  # Table 1.1.9 for GDP Implicit Price Deflator\n",
    "    \"Frequency\": \"A\",  # Annual Data\n",
    "    \"Year\": \"ALL\",  # Fetch all available years\n",
    "    \"ResultFormat\": \"json\"\n",
    "}\n",
    "\n",
    "# Parameters for Unemployment Rate (Table 6.0.0.1)\n",
    "unemployment_params = {\n",
    "    \"UserID\": API_KEY,\n",
    "    \"method\": \"GetData\",\n",
    "    \"datasetname\": \"NIPA\",\n",
    "    \"TableName\": \"T600001\",  # Table for Unemployment Rate\n",
    "    \"Frequency\": \"A\",  # Annual Data\n",
    "    \"Year\": \"ALL\",  # Fetch all available years\n",
    "    \"ResultFormat\": \"json\"\n",
    "}\n",
    "\n",
    "# Fetch Data from BEA API\n",
    "rgdp_response = requests.get(BEA_URL, params=rgdp_params)\n",
    "gdp_deflator_response = requests.get(BEA_URL, params=gdp_deflator_params)\n",
    "unemployment_response = requests.get(BEA_URL, params=unemployment_params)\n",
    "\n",
    "rgdp_data = rgdp_response.json()\n",
    "gdp_deflator_data = gdp_deflator_response.json()\n",
    "unemployment_data = unemployment_response.json()\n",
    "\n",
    "# Extract RGDP Data\n",
    "rgdp_records = []\n",
    "for item in rgdp_data[\"BEAAPI\"][\"Results\"][\"Data\"]:\n",
    "    if item[\"LineNumber\"] == \"1\":\n",
    "        rgdp_records.append({\"Year\": int(item[\"TimePeriod\"]), \"RGDP\": float(item[\"DataValue\"].replace(\",\", \"\"))})\n",
    "df_rgdp = pd.DataFrame(rgdp_records)\n",
    "\n",
    "# Extract GDP Deflator Data\n",
    "gdp_deflator_records = []\n",
    "for item in gdp_deflator_data[\"BEAAPI\"][\"Results\"][\"Data\"]:\n",
    "    if item[\"LineNumber\"] == \"1\":\n",
    "        gdp_deflator_records.append({\"Year\": int(item[\"TimePeriod\"]), \"GDP Deflator\": float(item[\"DataValue\"].replace(\",\", \"\"))})\n",
    "df_gdp_deflator = pd.DataFrame(gdp_deflator_records)\n",
    "\n",
    "# Extract Unemployment Data\n",
    "unemployment_records = []\n",
    "for item in unemployment_data[\"BEAAPI\"][\"Results\"][\"Data\"]:\n",
    "    if item[\"LineNumber\"] == \"1\":\n",
    "        unemployment_records.append({\"Year\": int(item[\"TimePeriod\"]), \"Unemployment Rate\": float(item[\"DataValue\"].replace(\",\", \"\"))})\n",
    "df_unemployment = pd.DataFrame(unemployment_records)\n",
    "\n",
    "# Merge datasets on Year\n",
    "df_correlation = df_rgdp.merge(df_gdp_deflator, on=\"Year\", how=\"inner\").merge(df_unemployment, on=\"Year\", how=\"inner\")\n",
    "\n",
    "# Compute the correlation matrix\n",
    "correlation_matrix = df_correlation[[\"RGDP\", \"GDP Deflator\", \"Unemployment Rate\"]].corr()\n",
    "\n",
    "# Plot the heatmap\n",
    "plt.figure(figsize=(8, 6))\n",
    "sns.heatmap(correlation_matrix, annot=True, cmap=\"coolwarm\", fmt=\".2f\")\n",
    "plt.title(\"Correlation Heatmap: RGDP, Inflation (GDP Deflator), and Unemployment\")\n",
    "plt.show()\n",
    "\n",
    "\n"
   ]
  },
  {
   "cell_type": "code",
   "execution_count": 4,
   "metadata": {},
   "outputs": [
    {
     "name": "stdout",
     "output_type": "stream",
     "text": [
      "{'BEAAPI': {'Request': {'RequestParam': [{'ParameterName': 'USERID', 'ParameterValue': 'AF24D2AB-0062-43E0-A879-E47F0BAACE62'}, {'ParameterName': 'METHOD', 'ParameterValue': 'GETDATA'}, {'ParameterName': 'DATASETNAME', 'ParameterValue': 'NIPA'}, {'ParameterName': 'TABLENAME', 'ParameterValue': 'T600001'}, {'ParameterName': 'FREQUENCY', 'ParameterValue': 'A'}, {'ParameterName': 'YEAR', 'ParameterValue': 'ALL'}, {'ParameterName': 'RESULTFORMAT', 'ParameterValue': 'JSON'}, {'ParameterName': 'ShowMillions', 'ParameterValue': 'N'}]}, 'Error': {'APIErrorDescription': 'Error retrieving NIPA data.', 'APIErrorCode': '201', 'ErrorDetail': {'Description': 'Invalid TableName was requested.'}}}}\n"
     ]
    }
   ],
   "source": [
    "print(unemployment_data)\n"
   ]
  },
  {
   "cell_type": "code",
   "execution_count": null,
   "metadata": {},
   "outputs": [],
   "source": []
  }
 ],
 "metadata": {
  "kernelspec": {
   "display_name": "Python 3",
   "language": "python",
   "name": "python3"
  },
  "language_info": {
   "codemirror_mode": {
    "name": "ipython",
    "version": 3
   },
   "file_extension": ".py",
   "mimetype": "text/x-python",
   "name": "python",
   "nbconvert_exporter": "python",
   "pygments_lexer": "ipython3",
   "version": "3.13.1"
  }
 },
 "nbformat": 4,
 "nbformat_minor": 2
}
